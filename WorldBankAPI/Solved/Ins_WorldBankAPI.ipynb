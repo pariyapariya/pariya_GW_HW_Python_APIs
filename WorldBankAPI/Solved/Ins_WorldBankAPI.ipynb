{
 "cells": [
  {
   "cell_type": "code",
   "execution_count": 13,
   "metadata": {},
   "outputs": [],
   "source": [
    "# Dependencies\n",
    "import requests\n",
    "\n",
    "url = \"http://api.worldbank.org/v2/\"\n",
    "api_format = \"json\"\n",
    "\n",
    "# Get country information in JSON format\n",
    "countries_response = requests.get(f\"{url}countries?format={api_format}\").json()"
   ]
  },
  {
   "cell_type": "code",
   "execution_count": 14,
   "metadata": {},
   "outputs": [],
   "source": [
    "# First element is general information, second is countries themselves\n",
    "countries = countries_response[1]"
   ]
  },
  {
   "cell_type": "code",
   "execution_count": 20,
   "metadata": {},
   "outputs": [
    {
     "name": "stdout",
     "output_type": "stream",
     "text": [
      "Aruba ABW\n",
      "Afghanistan AFG\n",
      "Africa AFR\n",
      "Angola AGO\n",
      "Albania ALB\n",
      "Andorra AND\n",
      "Andean Region ANR\n",
      "Arab World ARB\n",
      "United Arab Emirates ARE\n",
      "Argentina ARG\n",
      "Armenia ARM\n",
      "American Samoa ASM\n",
      "Antigua and Barbuda ATG\n",
      "Australia AUS\n",
      "Austria AUT\n",
      "Azerbaijan AZE\n",
      "Burundi BDI\n",
      "East Asia & Pacific (IBRD-only countries) BEA\n",
      "Europe & Central Asia (IBRD-only countries) BEC\n",
      "Belgium BEL\n",
      "Benin BEN\n",
      "Burkina Faso BFA\n",
      "Bangladesh BGD\n",
      "Bulgaria BGR\n",
      "IBRD countries classified as high income BHI\n",
      "Bahrain BHR\n",
      "Bahamas, The BHS\n",
      "Bosnia and Herzegovina BIH\n",
      "Latin America & the Caribbean (IBRD-only countries) BLA\n",
      "Belarus BLR\n",
      "Belize BLZ\n",
      "Middle East & North Africa (IBRD-only countries) BMN\n",
      "Bermuda BMU\n",
      "Bolivia BOL\n",
      "Brazil BRA\n",
      "Barbados BRB\n",
      "Brunei Darussalam BRN\n",
      "Sub-Saharan Africa (IBRD-only countries) BSS\n",
      "Bhutan BTN\n",
      "Botswana BWA\n",
      "Sub-Saharan Africa (IFC classification) CAA\n",
      "Central African Republic CAF\n",
      "Canada CAN\n",
      "East Asia and the Pacific (IFC classification) CEA\n",
      "Central Europe and the Baltics CEB\n",
      "Europe and Central Asia (IFC classification) CEU\n",
      "Switzerland CHE\n",
      "Channel Islands CHI\n",
      "Chile CHL\n",
      "China CHN\n"
     ]
    }
   ],
   "source": [
    "# Report the names\n",
    "for country in countries:\n",
    "    print(country[\"name\"],country[\"id\"])"
   ]
  },
  {
   "cell_type": "code",
   "execution_count": null,
   "metadata": {},
   "outputs": [],
   "source": []
  }
 ],
 "metadata": {
  "kernelspec": {
   "display_name": "Python 3",
   "language": "python",
   "name": "python3"
  },
  "language_info": {
   "codemirror_mode": {
    "name": "ipython",
    "version": 3
   },
   "file_extension": ".py",
   "mimetype": "text/x-python",
   "name": "python",
   "nbconvert_exporter": "python",
   "pygments_lexer": "ipython3",
   "version": "3.7.6"
  }
 },
 "nbformat": 4,
 "nbformat_minor": 2
}

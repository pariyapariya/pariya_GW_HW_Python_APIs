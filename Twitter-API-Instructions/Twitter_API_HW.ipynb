{
 "cells": [
  {
   "cell_type": "code",
   "execution_count": 1,
   "metadata": {},
   "outputs": [],
   "source": [
    "#!pip install vaderSentiment "
   ]
  },
  {
   "cell_type": "code",
   "execution_count": 2,
   "metadata": {},
   "outputs": [],
   "source": [
    "# Dependencies\n",
    "import tweepy\n",
    "import os\n",
    "import numpy as np\n",
    "import pandas as pd\n",
    "\n",
    "# Import and Initialize Sentiment Analyzer\n",
    "from vaderSentiment.vaderSentiment import SentimentIntensityAnalyzer\n",
    "analyzer = SentimentIntensityAnalyzer()"
   ]
  },
  {
   "cell_type": "code",
   "execution_count": 3,
   "metadata": {},
   "outputs": [
    {
     "name": "stdout",
     "output_type": "stream",
     "text": [
      "/Users/pariya/Desktop/pariya_GW_HW_Python_APIs/Twitter-API-Instructions\n"
     ]
    }
   ],
   "source": [
    "# Get the current working directory\n",
    "orig_working_directory = os.getcwd()\n",
    "print(orig_working_directory)"
   ]
  },
  {
   "cell_type": "code",
   "execution_count": 4,
   "metadata": {},
   "outputs": [
    {
     "data": {
      "text/plain": [
       "'/Users/pariya/Desktop/gwu-arl-data-pt-03-2020-u-c'"
      ]
     },
     "execution_count": 4,
     "metadata": {},
     "output_type": "execute_result"
    }
   ],
   "source": [
    "# get back up 2 level to be on Desktop first, then navigate to 'gwu-' directory which contains config.py inside\n",
    "os.chdir(os.path.join('..','..','gwu-arl-data-pt-03-2020-u-c'))\n",
    "\n",
    "# Now, you can see the new working directory\n",
    "curr_working_directory = os.getcwd()\n",
    "os.getcwd()"
   ]
  },
  {
   "cell_type": "code",
   "execution_count": 8,
   "metadata": {},
   "outputs": [],
   "source": [
    "# Twitter API Keys\n",
    "from config import (consumer_key, \n",
    "                    consumer_secret, \n",
    "                    access_token, \n",
    "                    access_token_secret)\n",
    "\n",
    "# Setup Tweepy API Authentication\n",
    "auth = tweepy.OAuthHandler(consumer_key, consumer_secret)\n",
    "auth.set_access_token(access_token, access_token_secret)\n",
    "api = tweepy.API(auth)"
   ]
  },
  {
   "cell_type": "code",
   "execution_count": 19,
   "metadata": {},
   "outputs": [],
   "source": [
    "# Target Search Term ----- BBC, CBS, CNN, Fox, and New York times\n",
    "target_terms = (\"@BBC\", \"@CBS\", \"@CNN\", \"@Fox\", \"@New York times\")\n",
    "\n",
    "# List to hold results\n",
    "tweets_list = []\n",
    "search_term_list = []"
   ]
  },
  {
   "cell_type": "code",
   "execution_count": 20,
   "metadata": {},
   "outputs": [],
   "source": [
    "# Loop through all target users\n",
    "for target in target_terms:\n",
    "    \n",
    "    # Iterate through the ---first 100 tweets---\n",
    "    for tweet in tweepy.Cursor(api.search, target, tweet_mode='extended').items(100):\n",
    "        tweets_list.append(tweet)    \n",
    "        search_term_list.append(target)"
   ]
  },
  {
   "cell_type": "code",
   "execution_count": 15,
   "metadata": {},
   "outputs": [
    {
     "data": {
      "text/plain": [
       "Status(_api=<tweepy.api.API object at 0x11dbc2b90>, _json={'created_at': 'Sun May 17 08:51:03 +0000 2020', 'id': 1261942295902990336, 'id_str': '1261942295902990336', 'full_text': \"RT @BBC: Join HRH The Duke of Cambridge as he aims to break the stigma around men's mental health.\\n\\n#FootballPrinceWilliamAndOurMentalHealt…\", 'truncated': False, 'display_text_range': [0, 140], 'entities': {'hashtags': [], 'symbols': [], 'user_mentions': [{'screen_name': 'BBC', 'name': 'BBC', 'id': 19701628, 'id_str': '19701628', 'indices': [3, 7]}], 'urls': []}, 'metadata': {'iso_language_code': 'en', 'result_type': 'recent'}, 'source': '<a href=\"http://twitter.com/download/iphone\" rel=\"nofollow\">Twitter for iPhone</a>', 'in_reply_to_status_id': None, 'in_reply_to_status_id_str': None, 'in_reply_to_user_id': None, 'in_reply_to_user_id_str': None, 'in_reply_to_screen_name': None, 'user': {'id': 558060557, 'id_str': '558060557', 'name': 'Julia Paulina ♜☄️', 'screen_name': 'RoyalJulia', 'location': 'Italy', 'description': 'Born: Montreal, Canada; U of Ottawa: Honors Child Psychology; love classical music & the music of JOSH GROBAN; Please support #FYLFoundation.org and #CWL', 'url': None, 'entities': {'description': {'urls': []}}, 'protected': False, 'followers_count': 481, 'friends_count': 405, 'listed_count': 8, 'created_at': 'Thu Apr 19 21:10:54 +0000 2012', 'favourites_count': 20232, 'utc_offset': None, 'time_zone': None, 'geo_enabled': True, 'verified': False, 'statuses_count': 27347, 'lang': None, 'contributors_enabled': False, 'is_translator': False, 'is_translation_enabled': False, 'profile_background_color': '642D8B', 'profile_background_image_url': 'http://abs.twimg.com/images/themes/theme10/bg.gif', 'profile_background_image_url_https': 'https://abs.twimg.com/images/themes/theme10/bg.gif', 'profile_background_tile': True, 'profile_image_url': 'http://pbs.twimg.com/profile_images/962717573371650049/UzYWUiHx_normal.jpg', 'profile_image_url_https': 'https://pbs.twimg.com/profile_images/962717573371650049/UzYWUiHx_normal.jpg', 'profile_banner_url': 'https://pbs.twimg.com/profile_banners/558060557/1518364732', 'profile_link_color': 'FF0011', 'profile_sidebar_border_color': '65B0DA', 'profile_sidebar_fill_color': '7AC3EE', 'profile_text_color': '3D1957', 'profile_use_background_image': True, 'has_extended_profile': True, 'default_profile': False, 'default_profile_image': False, 'following': False, 'follow_request_sent': False, 'notifications': False, 'translator_type': 'none'}, 'geo': None, 'coordinates': None, 'place': None, 'contributors': None, 'retweeted_status': {'created_at': 'Sat May 16 14:00:01 +0000 2020', 'id': 1261657661562593280, 'id_str': '1261657661562593280', 'full_text': \"Join HRH The Duke of Cambridge as he aims to break the stigma around men's mental health.\\n\\n#FootballPrinceWilliamAndOurMentalHealth | BBC One | Thursday 28th May, 8.05pm https://t.co/dD07WgLlp9\", 'truncated': False, 'display_text_range': [0, 169], 'entities': {'hashtags': [{'text': 'FootballPrinceWilliamAndOurMentalHealth', 'indices': [91, 131]}], 'symbols': [], 'user_mentions': [], 'urls': [], 'media': [{'id': 1261349152946114561, 'id_str': '1261349152946114561', 'indices': [170, 193], 'media_url': 'http://pbs.twimg.com/ext_tw_video_thumb/1261349152946114561/pu/img/Hrx4XdsPXUnHNRYT.jpg', 'media_url_https': 'https://pbs.twimg.com/ext_tw_video_thumb/1261349152946114561/pu/img/Hrx4XdsPXUnHNRYT.jpg', 'url': 'https://t.co/dD07WgLlp9', 'display_url': 'pic.twitter.com/dD07WgLlp9', 'expanded_url': 'https://twitter.com/BBC/status/1261657661562593280/video/1', 'type': 'photo', 'sizes': {'thumb': {'w': 150, 'h': 150, 'resize': 'crop'}, 'small': {'w': 544, 'h': 680, 'resize': 'fit'}, 'medium': {'w': 960, 'h': 1200, 'resize': 'fit'}, 'large': {'w': 1024, 'h': 1280, 'resize': 'fit'}}}]}, 'extended_entities': {'media': [{'id': 1261349152946114561, 'id_str': '1261349152946114561', 'indices': [170, 193], 'media_url': 'http://pbs.twimg.com/ext_tw_video_thumb/1261349152946114561/pu/img/Hrx4XdsPXUnHNRYT.jpg', 'media_url_https': 'https://pbs.twimg.com/ext_tw_video_thumb/1261349152946114561/pu/img/Hrx4XdsPXUnHNRYT.jpg', 'url': 'https://t.co/dD07WgLlp9', 'display_url': 'pic.twitter.com/dD07WgLlp9', 'expanded_url': 'https://twitter.com/BBC/status/1261657661562593280/video/1', 'type': 'video', 'sizes': {'thumb': {'w': 150, 'h': 150, 'resize': 'crop'}, 'small': {'w': 544, 'h': 680, 'resize': 'fit'}, 'medium': {'w': 960, 'h': 1200, 'resize': 'fit'}, 'large': {'w': 1024, 'h': 1280, 'resize': 'fit'}}, 'video_info': {'aspect_ratio': [4, 5], 'duration_millis': 30400, 'variants': [{'bitrate': 832000, 'content_type': 'video/mp4', 'url': 'https://video.twimg.com/ext_tw_video/1261349152946114561/pu/vid/360x450/xpMlUlN2L6Y7kaQh.mp4?tag=10'}, {'bitrate': 2176000, 'content_type': 'video/mp4', 'url': 'https://video.twimg.com/ext_tw_video/1261349152946114561/pu/vid/720x900/6iWr22tI7KLAHxRx.mp4?tag=10'}, {'bitrate': 632000, 'content_type': 'video/mp4', 'url': 'https://video.twimg.com/ext_tw_video/1261349152946114561/pu/vid/320x400/sKFdE74bPlW3tDej.mp4?tag=10'}, {'content_type': 'application/x-mpegURL', 'url': 'https://video.twimg.com/ext_tw_video/1261349152946114561/pu/pl/8JLHm7ePkihUREOo.m3u8?tag=10'}]}, 'additional_media_info': {'monetizable': False}}]}, 'metadata': {'iso_language_code': 'en', 'result_type': 'recent'}, 'source': '<a href=\"https://about.twitter.com/products/tweetdeck\" rel=\"nofollow\">TweetDeck</a>', 'in_reply_to_status_id': None, 'in_reply_to_status_id_str': None, 'in_reply_to_user_id': None, 'in_reply_to_user_id_str': None, 'in_reply_to_screen_name': None, 'user': {'id': 19701628, 'id_str': '19701628', 'name': 'BBC', 'screen_name': 'BBC', 'location': 'TV. Radio. Online', 'description': 'Our mission is to enrich your life and to inform, educate and entertain you, wherever you are.', 'url': 'http://t.co/9Yv7DJ1Pmu', 'entities': {'url': {'urls': [{'url': 'http://t.co/9Yv7DJ1Pmu', 'expanded_url': 'http://www.bbc.co.uk', 'display_url': 'bbc.co.uk', 'indices': [0, 22]}]}, 'description': {'urls': []}}, 'protected': False, 'followers_count': 1682171, 'friends_count': 187, 'listed_count': 11012, 'created_at': 'Thu Jan 29 08:30:16 +0000 2009', 'favourites_count': 3684, 'utc_offset': None, 'time_zone': None, 'geo_enabled': False, 'verified': True, 'statuses_count': 34871, 'lang': None, 'contributors_enabled': False, 'is_translator': False, 'is_translation_enabled': False, 'profile_background_color': '000000', 'profile_background_image_url': 'http://abs.twimg.com/images/themes/theme1/bg.png', 'profile_background_image_url_https': 'https://abs.twimg.com/images/themes/theme1/bg.png', 'profile_background_tile': False, 'profile_image_url': 'http://pbs.twimg.com/profile_images/1110178686450483200/F5-Jmzk7_normal.png', 'profile_image_url_https': 'https://pbs.twimg.com/profile_images/1110178686450483200/F5-Jmzk7_normal.png', 'profile_banner_url': 'https://pbs.twimg.com/profile_banners/19701628/1553522020', 'profile_link_color': '000000', 'profile_sidebar_border_color': '000000', 'profile_sidebar_fill_color': 'DDEEF6', 'profile_text_color': '333333', 'profile_use_background_image': False, 'has_extended_profile': False, 'default_profile': False, 'default_profile_image': False, 'following': False, 'follow_request_sent': False, 'notifications': False, 'translator_type': 'regular'}, 'geo': None, 'coordinates': None, 'place': None, 'contributors': None, 'is_quote_status': False, 'retweet_count': 49, 'favorite_count': 230, 'favorited': False, 'retweeted': False, 'possibly_sensitive': False, 'lang': 'en'}, 'is_quote_status': False, 'retweet_count': 49, 'favorite_count': 0, 'favorited': False, 'retweeted': False, 'lang': 'en'}, created_at=datetime.datetime(2020, 5, 17, 8, 51, 3), id=1261942295902990336, id_str='1261942295902990336', full_text=\"RT @BBC: Join HRH The Duke of Cambridge as he aims to break the stigma around men's mental health.\\n\\n#FootballPrinceWilliamAndOurMentalHealt…\", truncated=False, display_text_range=[0, 140], entities={'hashtags': [], 'symbols': [], 'user_mentions': [{'screen_name': 'BBC', 'name': 'BBC', 'id': 19701628, 'id_str': '19701628', 'indices': [3, 7]}], 'urls': []}, metadata={'iso_language_code': 'en', 'result_type': 'recent'}, source='Twitter for iPhone', source_url='http://twitter.com/download/iphone', in_reply_to_status_id=None, in_reply_to_status_id_str=None, in_reply_to_user_id=None, in_reply_to_user_id_str=None, in_reply_to_screen_name=None, author=User(_api=<tweepy.api.API object at 0x11dbc2b90>, _json={'id': 558060557, 'id_str': '558060557', 'name': 'Julia Paulina ♜☄️', 'screen_name': 'RoyalJulia', 'location': 'Italy', 'description': 'Born: Montreal, Canada; U of Ottawa: Honors Child Psychology; love classical music & the music of JOSH GROBAN; Please support #FYLFoundation.org and #CWL', 'url': None, 'entities': {'description': {'urls': []}}, 'protected': False, 'followers_count': 481, 'friends_count': 405, 'listed_count': 8, 'created_at': 'Thu Apr 19 21:10:54 +0000 2012', 'favourites_count': 20232, 'utc_offset': None, 'time_zone': None, 'geo_enabled': True, 'verified': False, 'statuses_count': 27347, 'lang': None, 'contributors_enabled': False, 'is_translator': False, 'is_translation_enabled': False, 'profile_background_color': '642D8B', 'profile_background_image_url': 'http://abs.twimg.com/images/themes/theme10/bg.gif', 'profile_background_image_url_https': 'https://abs.twimg.com/images/themes/theme10/bg.gif', 'profile_background_tile': True, 'profile_image_url': 'http://pbs.twimg.com/profile_images/962717573371650049/UzYWUiHx_normal.jpg', 'profile_image_url_https': 'https://pbs.twimg.com/profile_images/962717573371650049/UzYWUiHx_normal.jpg', 'profile_banner_url': 'https://pbs.twimg.com/profile_banners/558060557/1518364732', 'profile_link_color': 'FF0011', 'profile_sidebar_border_color': '65B0DA', 'profile_sidebar_fill_color': '7AC3EE', 'profile_text_color': '3D1957', 'profile_use_background_image': True, 'has_extended_profile': True, 'default_profile': False, 'default_profile_image': False, 'following': False, 'follow_request_sent': False, 'notifications': False, 'translator_type': 'none'}, id=558060557, id_str='558060557', name='Julia Paulina ♜☄️', screen_name='RoyalJulia', location='Italy', description='Born: Montreal, Canada; U of Ottawa: Honors Child Psychology; love classical music & the music of JOSH GROBAN; Please support #FYLFoundation.org and #CWL', url=None, entities={'description': {'urls': []}}, protected=False, followers_count=481, friends_count=405, listed_count=8, created_at=datetime.datetime(2012, 4, 19, 21, 10, 54), favourites_count=20232, utc_offset=None, time_zone=None, geo_enabled=True, verified=False, statuses_count=27347, lang=None, contributors_enabled=False, is_translator=False, is_translation_enabled=False, profile_background_color='642D8B', profile_background_image_url='http://abs.twimg.com/images/themes/theme10/bg.gif', profile_background_image_url_https='https://abs.twimg.com/images/themes/theme10/bg.gif', profile_background_tile=True, profile_image_url='http://pbs.twimg.com/profile_images/962717573371650049/UzYWUiHx_normal.jpg', profile_image_url_https='https://pbs.twimg.com/profile_images/962717573371650049/UzYWUiHx_normal.jpg', profile_banner_url='https://pbs.twimg.com/profile_banners/558060557/1518364732', profile_link_color='FF0011', profile_sidebar_border_color='65B0DA', profile_sidebar_fill_color='7AC3EE', profile_text_color='3D1957', profile_use_background_image=True, has_extended_profile=True, default_profile=False, default_profile_image=False, following=False, follow_request_sent=False, notifications=False, translator_type='none'), user=User(_api=<tweepy.api.API object at 0x11dbc2b90>, _json={'id': 558060557, 'id_str': '558060557', 'name': 'Julia Paulina ♜☄️', 'screen_name': 'RoyalJulia', 'location': 'Italy', 'description': 'Born: Montreal, Canada; U of Ottawa: Honors Child Psychology; love classical music & the music of JOSH GROBAN; Please support #FYLFoundation.org and #CWL', 'url': None, 'entities': {'description': {'urls': []}}, 'protected': False, 'followers_count': 481, 'friends_count': 405, 'listed_count': 8, 'created_at': 'Thu Apr 19 21:10:54 +0000 2012', 'favourites_count': 20232, 'utc_offset': None, 'time_zone': None, 'geo_enabled': True, 'verified': False, 'statuses_count': 27347, 'lang': None, 'contributors_enabled': False, 'is_translator': False, 'is_translation_enabled': False, 'profile_background_color': '642D8B', 'profile_background_image_url': 'http://abs.twimg.com/images/themes/theme10/bg.gif', 'profile_background_image_url_https': 'https://abs.twimg.com/images/themes/theme10/bg.gif', 'profile_background_tile': True, 'profile_image_url': 'http://pbs.twimg.com/profile_images/962717573371650049/UzYWUiHx_normal.jpg', 'profile_image_url_https': 'https://pbs.twimg.com/profile_images/962717573371650049/UzYWUiHx_normal.jpg', 'profile_banner_url': 'https://pbs.twimg.com/profile_banners/558060557/1518364732', 'profile_link_color': 'FF0011', 'profile_sidebar_border_color': '65B0DA', 'profile_sidebar_fill_color': '7AC3EE', 'profile_text_color': '3D1957', 'profile_use_background_image': True, 'has_extended_profile': True, 'default_profile': False, 'default_profile_image': False, 'following': False, 'follow_request_sent': False, 'notifications': False, 'translator_type': 'none'}, id=558060557, id_str='558060557', name='Julia Paulina ♜☄️', screen_name='RoyalJulia', location='Italy', description='Born: Montreal, Canada; U of Ottawa: Honors Child Psychology; love classical music & the music of JOSH GROBAN; Please support #FYLFoundation.org and #CWL', url=None, entities={'description': {'urls': []}}, protected=False, followers_count=481, friends_count=405, listed_count=8, created_at=datetime.datetime(2012, 4, 19, 21, 10, 54), favourites_count=20232, utc_offset=None, time_zone=None, geo_enabled=True, verified=False, statuses_count=27347, lang=None, contributors_enabled=False, is_translator=False, is_translation_enabled=False, profile_background_color='642D8B', profile_background_image_url='http://abs.twimg.com/images/themes/theme10/bg.gif', profile_background_image_url_https='https://abs.twimg.com/images/themes/theme10/bg.gif', profile_background_tile=True, profile_image_url='http://pbs.twimg.com/profile_images/962717573371650049/UzYWUiHx_normal.jpg', profile_image_url_https='https://pbs.twimg.com/profile_images/962717573371650049/UzYWUiHx_normal.jpg', profile_banner_url='https://pbs.twimg.com/profile_banners/558060557/1518364732', profile_link_color='FF0011', profile_sidebar_border_color='65B0DA', profile_sidebar_fill_color='7AC3EE', profile_text_color='3D1957', profile_use_background_image=True, has_extended_profile=True, default_profile=False, default_profile_image=False, following=False, follow_request_sent=False, notifications=False, translator_type='none'), geo=None, coordinates=None, place=None, contributors=None, retweeted_status=Status(_api=<tweepy.api.API object at 0x11dbc2b90>, _json={'created_at': 'Sat May 16 14:00:01 +0000 2020', 'id': 1261657661562593280, 'id_str': '1261657661562593280', 'full_text': \"Join HRH The Duke of Cambridge as he aims to break the stigma around men's mental health.\\n\\n#FootballPrinceWilliamAndOurMentalHealth | BBC One | Thursday 28th May, 8.05pm https://t.co/dD07WgLlp9\", 'truncated': False, 'display_text_range': [0, 169], 'entities': {'hashtags': [{'text': 'FootballPrinceWilliamAndOurMentalHealth', 'indices': [91, 131]}], 'symbols': [], 'user_mentions': [], 'urls': [], 'media': [{'id': 1261349152946114561, 'id_str': '1261349152946114561', 'indices': [170, 193], 'media_url': 'http://pbs.twimg.com/ext_tw_video_thumb/1261349152946114561/pu/img/Hrx4XdsPXUnHNRYT.jpg', 'media_url_https': 'https://pbs.twimg.com/ext_tw_video_thumb/1261349152946114561/pu/img/Hrx4XdsPXUnHNRYT.jpg', 'url': 'https://t.co/dD07WgLlp9', 'display_url': 'pic.twitter.com/dD07WgLlp9', 'expanded_url': 'https://twitter.com/BBC/status/1261657661562593280/video/1', 'type': 'photo', 'sizes': {'thumb': {'w': 150, 'h': 150, 'resize': 'crop'}, 'small': {'w': 544, 'h': 680, 'resize': 'fit'}, 'medium': {'w': 960, 'h': 1200, 'resize': 'fit'}, 'large': {'w': 1024, 'h': 1280, 'resize': 'fit'}}}]}, 'extended_entities': {'media': [{'id': 1261349152946114561, 'id_str': '1261349152946114561', 'indices': [170, 193], 'media_url': 'http://pbs.twimg.com/ext_tw_video_thumb/1261349152946114561/pu/img/Hrx4XdsPXUnHNRYT.jpg', 'media_url_https': 'https://pbs.twimg.com/ext_tw_video_thumb/1261349152946114561/pu/img/Hrx4XdsPXUnHNRYT.jpg', 'url': 'https://t.co/dD07WgLlp9', 'display_url': 'pic.twitter.com/dD07WgLlp9', 'expanded_url': 'https://twitter.com/BBC/status/1261657661562593280/video/1', 'type': 'video', 'sizes': {'thumb': {'w': 150, 'h': 150, 'resize': 'crop'}, 'small': {'w': 544, 'h': 680, 'resize': 'fit'}, 'medium': {'w': 960, 'h': 1200, 'resize': 'fit'}, 'large': {'w': 1024, 'h': 1280, 'resize': 'fit'}}, 'video_info': {'aspect_ratio': [4, 5], 'duration_millis': 30400, 'variants': [{'bitrate': 832000, 'content_type': 'video/mp4', 'url': 'https://video.twimg.com/ext_tw_video/1261349152946114561/pu/vid/360x450/xpMlUlN2L6Y7kaQh.mp4?tag=10'}, {'bitrate': 2176000, 'content_type': 'video/mp4', 'url': 'https://video.twimg.com/ext_tw_video/1261349152946114561/pu/vid/720x900/6iWr22tI7KLAHxRx.mp4?tag=10'}, {'bitrate': 632000, 'content_type': 'video/mp4', 'url': 'https://video.twimg.com/ext_tw_video/1261349152946114561/pu/vid/320x400/sKFdE74bPlW3tDej.mp4?tag=10'}, {'content_type': 'application/x-mpegURL', 'url': 'https://video.twimg.com/ext_tw_video/1261349152946114561/pu/pl/8JLHm7ePkihUREOo.m3u8?tag=10'}]}, 'additional_media_info': {'monetizable': False}}]}, 'metadata': {'iso_language_code': 'en', 'result_type': 'recent'}, 'source': '<a href=\"https://about.twitter.com/products/tweetdeck\" rel=\"nofollow\">TweetDeck</a>', 'in_reply_to_status_id': None, 'in_reply_to_status_id_str': None, 'in_reply_to_user_id': None, 'in_reply_to_user_id_str': None, 'in_reply_to_screen_name': None, 'user': {'id': 19701628, 'id_str': '19701628', 'name': 'BBC', 'screen_name': 'BBC', 'location': 'TV. Radio. Online', 'description': 'Our mission is to enrich your life and to inform, educate and entertain you, wherever you are.', 'url': 'http://t.co/9Yv7DJ1Pmu', 'entities': {'url': {'urls': [{'url': 'http://t.co/9Yv7DJ1Pmu', 'expanded_url': 'http://www.bbc.co.uk', 'display_url': 'bbc.co.uk', 'indices': [0, 22]}]}, 'description': {'urls': []}}, 'protected': False, 'followers_count': 1682171, 'friends_count': 187, 'listed_count': 11012, 'created_at': 'Thu Jan 29 08:30:16 +0000 2009', 'favourites_count': 3684, 'utc_offset': None, 'time_zone': None, 'geo_enabled': False, 'verified': True, 'statuses_count': 34871, 'lang': None, 'contributors_enabled': False, 'is_translator': False, 'is_translation_enabled': False, 'profile_background_color': '000000', 'profile_background_image_url': 'http://abs.twimg.com/images/themes/theme1/bg.png', 'profile_background_image_url_https': 'https://abs.twimg.com/images/themes/theme1/bg.png', 'profile_background_tile': False, 'profile_image_url': 'http://pbs.twimg.com/profile_images/1110178686450483200/F5-Jmzk7_normal.png', 'profile_image_url_https': 'https://pbs.twimg.com/profile_images/1110178686450483200/F5-Jmzk7_normal.png', 'profile_banner_url': 'https://pbs.twimg.com/profile_banners/19701628/1553522020', 'profile_link_color': '000000', 'profile_sidebar_border_color': '000000', 'profile_sidebar_fill_color': 'DDEEF6', 'profile_text_color': '333333', 'profile_use_background_image': False, 'has_extended_profile': False, 'default_profile': False, 'default_profile_image': False, 'following': False, 'follow_request_sent': False, 'notifications': False, 'translator_type': 'regular'}, 'geo': None, 'coordinates': None, 'place': None, 'contributors': None, 'is_quote_status': False, 'retweet_count': 49, 'favorite_count': 230, 'favorited': False, 'retweeted': False, 'possibly_sensitive': False, 'lang': 'en'}, created_at=datetime.datetime(2020, 5, 16, 14, 0, 1), id=1261657661562593280, id_str='1261657661562593280', full_text=\"Join HRH The Duke of Cambridge as he aims to break the stigma around men's mental health.\\n\\n#FootballPrinceWilliamAndOurMentalHealth | BBC One | Thursday 28th May, 8.05pm https://t.co/dD07WgLlp9\", truncated=False, display_text_range=[0, 169], entities={'hashtags': [{'text': 'FootballPrinceWilliamAndOurMentalHealth', 'indices': [91, 131]}], 'symbols': [], 'user_mentions': [], 'urls': [], 'media': [{'id': 1261349152946114561, 'id_str': '1261349152946114561', 'indices': [170, 193], 'media_url': 'http://pbs.twimg.com/ext_tw_video_thumb/1261349152946114561/pu/img/Hrx4XdsPXUnHNRYT.jpg', 'media_url_https': 'https://pbs.twimg.com/ext_tw_video_thumb/1261349152946114561/pu/img/Hrx4XdsPXUnHNRYT.jpg', 'url': 'https://t.co/dD07WgLlp9', 'display_url': 'pic.twitter.com/dD07WgLlp9', 'expanded_url': 'https://twitter.com/BBC/status/1261657661562593280/video/1', 'type': 'photo', 'sizes': {'thumb': {'w': 150, 'h': 150, 'resize': 'crop'}, 'small': {'w': 544, 'h': 680, 'resize': 'fit'}, 'medium': {'w': 960, 'h': 1200, 'resize': 'fit'}, 'large': {'w': 1024, 'h': 1280, 'resize': 'fit'}}}]}, extended_entities={'media': [{'id': 1261349152946114561, 'id_str': '1261349152946114561', 'indices': [170, 193], 'media_url': 'http://pbs.twimg.com/ext_tw_video_thumb/1261349152946114561/pu/img/Hrx4XdsPXUnHNRYT.jpg', 'media_url_https': 'https://pbs.twimg.com/ext_tw_video_thumb/1261349152946114561/pu/img/Hrx4XdsPXUnHNRYT.jpg', 'url': 'https://t.co/dD07WgLlp9', 'display_url': 'pic.twitter.com/dD07WgLlp9', 'expanded_url': 'https://twitter.com/BBC/status/1261657661562593280/video/1', 'type': 'video', 'sizes': {'thumb': {'w': 150, 'h': 150, 'resize': 'crop'}, 'small': {'w': 544, 'h': 680, 'resize': 'fit'}, 'medium': {'w': 960, 'h': 1200, 'resize': 'fit'}, 'large': {'w': 1024, 'h': 1280, 'resize': 'fit'}}, 'video_info': {'aspect_ratio': [4, 5], 'duration_millis': 30400, 'variants': [{'bitrate': 832000, 'content_type': 'video/mp4', 'url': 'https://video.twimg.com/ext_tw_video/1261349152946114561/pu/vid/360x450/xpMlUlN2L6Y7kaQh.mp4?tag=10'}, {'bitrate': 2176000, 'content_type': 'video/mp4', 'url': 'https://video.twimg.com/ext_tw_video/1261349152946114561/pu/vid/720x900/6iWr22tI7KLAHxRx.mp4?tag=10'}, {'bitrate': 632000, 'content_type': 'video/mp4', 'url': 'https://video.twimg.com/ext_tw_video/1261349152946114561/pu/vid/320x400/sKFdE74bPlW3tDej.mp4?tag=10'}, {'content_type': 'application/x-mpegURL', 'url': 'https://video.twimg.com/ext_tw_video/1261349152946114561/pu/pl/8JLHm7ePkihUREOo.m3u8?tag=10'}]}, 'additional_media_info': {'monetizable': False}}]}, metadata={'iso_language_code': 'en', 'result_type': 'recent'}, source='TweetDeck', source_url='https://about.twitter.com/products/tweetdeck', in_reply_to_status_id=None, in_reply_to_status_id_str=None, in_reply_to_user_id=None, in_reply_to_user_id_str=None, in_reply_to_screen_name=None, author=User(_api=<tweepy.api.API object at 0x11dbc2b90>, _json={'id': 19701628, 'id_str': '19701628', 'name': 'BBC', 'screen_name': 'BBC', 'location': 'TV. Radio. Online', 'description': 'Our mission is to enrich your life and to inform, educate and entertain you, wherever you are.', 'url': 'http://t.co/9Yv7DJ1Pmu', 'entities': {'url': {'urls': [{'url': 'http://t.co/9Yv7DJ1Pmu', 'expanded_url': 'http://www.bbc.co.uk', 'display_url': 'bbc.co.uk', 'indices': [0, 22]}]}, 'description': {'urls': []}}, 'protected': False, 'followers_count': 1682171, 'friends_count': 187, 'listed_count': 11012, 'created_at': 'Thu Jan 29 08:30:16 +0000 2009', 'favourites_count': 3684, 'utc_offset': None, 'time_zone': None, 'geo_enabled': False, 'verified': True, 'statuses_count': 34871, 'lang': None, 'contributors_enabled': False, 'is_translator': False, 'is_translation_enabled': False, 'profile_background_color': '000000', 'profile_background_image_url': 'http://abs.twimg.com/images/themes/theme1/bg.png', 'profile_background_image_url_https': 'https://abs.twimg.com/images/themes/theme1/bg.png', 'profile_background_tile': False, 'profile_image_url': 'http://pbs.twimg.com/profile_images/1110178686450483200/F5-Jmzk7_normal.png', 'profile_image_url_https': 'https://pbs.twimg.com/profile_images/1110178686450483200/F5-Jmzk7_normal.png', 'profile_banner_url': 'https://pbs.twimg.com/profile_banners/19701628/1553522020', 'profile_link_color': '000000', 'profile_sidebar_border_color': '000000', 'profile_sidebar_fill_color': 'DDEEF6', 'profile_text_color': '333333', 'profile_use_background_image': False, 'has_extended_profile': False, 'default_profile': False, 'default_profile_image': False, 'following': False, 'follow_request_sent': False, 'notifications': False, 'translator_type': 'regular'}, id=19701628, id_str='19701628', name='BBC', screen_name='BBC', location='TV. Radio. Online', description='Our mission is to enrich your life and to inform, educate and entertain you, wherever you are.', url='http://t.co/9Yv7DJ1Pmu', entities={'url': {'urls': [{'url': 'http://t.co/9Yv7DJ1Pmu', 'expanded_url': 'http://www.bbc.co.uk', 'display_url': 'bbc.co.uk', 'indices': [0, 22]}]}, 'description': {'urls': []}}, protected=False, followers_count=1682171, friends_count=187, listed_count=11012, created_at=datetime.datetime(2009, 1, 29, 8, 30, 16), favourites_count=3684, utc_offset=None, time_zone=None, geo_enabled=False, verified=True, statuses_count=34871, lang=None, contributors_enabled=False, is_translator=False, is_translation_enabled=False, profile_background_color='000000', profile_background_image_url='http://abs.twimg.com/images/themes/theme1/bg.png', profile_background_image_url_https='https://abs.twimg.com/images/themes/theme1/bg.png', profile_background_tile=False, profile_image_url='http://pbs.twimg.com/profile_images/1110178686450483200/F5-Jmzk7_normal.png', profile_image_url_https='https://pbs.twimg.com/profile_images/1110178686450483200/F5-Jmzk7_normal.png', profile_banner_url='https://pbs.twimg.com/profile_banners/19701628/1553522020', profile_link_color='000000', profile_sidebar_border_color='000000', profile_sidebar_fill_color='DDEEF6', profile_text_color='333333', profile_use_background_image=False, has_extended_profile=False, default_profile=False, default_profile_image=False, following=False, follow_request_sent=False, notifications=False, translator_type='regular'), user=User(_api=<tweepy.api.API object at 0x11dbc2b90>, _json={'id': 19701628, 'id_str': '19701628', 'name': 'BBC', 'screen_name': 'BBC', 'location': 'TV. Radio. Online', 'description': 'Our mission is to enrich your life and to inform, educate and entertain you, wherever you are.', 'url': 'http://t.co/9Yv7DJ1Pmu', 'entities': {'url': {'urls': [{'url': 'http://t.co/9Yv7DJ1Pmu', 'expanded_url': 'http://www.bbc.co.uk', 'display_url': 'bbc.co.uk', 'indices': [0, 22]}]}, 'description': {'urls': []}}, 'protected': False, 'followers_count': 1682171, 'friends_count': 187, 'listed_count': 11012, 'created_at': 'Thu Jan 29 08:30:16 +0000 2009', 'favourites_count': 3684, 'utc_offset': None, 'time_zone': None, 'geo_enabled': False, 'verified': True, 'statuses_count': 34871, 'lang': None, 'contributors_enabled': False, 'is_translator': False, 'is_translation_enabled': False, 'profile_background_color': '000000', 'profile_background_image_url': 'http://abs.twimg.com/images/themes/theme1/bg.png', 'profile_background_image_url_https': 'https://abs.twimg.com/images/themes/theme1/bg.png', 'profile_background_tile': False, 'profile_image_url': 'http://pbs.twimg.com/profile_images/1110178686450483200/F5-Jmzk7_normal.png', 'profile_image_url_https': 'https://pbs.twimg.com/profile_images/1110178686450483200/F5-Jmzk7_normal.png', 'profile_banner_url': 'https://pbs.twimg.com/profile_banners/19701628/1553522020', 'profile_link_color': '000000', 'profile_sidebar_border_color': '000000', 'profile_sidebar_fill_color': 'DDEEF6', 'profile_text_color': '333333', 'profile_use_background_image': False, 'has_extended_profile': False, 'default_profile': False, 'default_profile_image': False, 'following': False, 'follow_request_sent': False, 'notifications': False, 'translator_type': 'regular'}, id=19701628, id_str='19701628', name='BBC', screen_name='BBC', location='TV. Radio. Online', description='Our mission is to enrich your life and to inform, educate and entertain you, wherever you are.', url='http://t.co/9Yv7DJ1Pmu', entities={'url': {'urls': [{'url': 'http://t.co/9Yv7DJ1Pmu', 'expanded_url': 'http://www.bbc.co.uk', 'display_url': 'bbc.co.uk', 'indices': [0, 22]}]}, 'description': {'urls': []}}, protected=False, followers_count=1682171, friends_count=187, listed_count=11012, created_at=datetime.datetime(2009, 1, 29, 8, 30, 16), favourites_count=3684, utc_offset=None, time_zone=None, geo_enabled=False, verified=True, statuses_count=34871, lang=None, contributors_enabled=False, is_translator=False, is_translation_enabled=False, profile_background_color='000000', profile_background_image_url='http://abs.twimg.com/images/themes/theme1/bg.png', profile_background_image_url_https='https://abs.twimg.com/images/themes/theme1/bg.png', profile_background_tile=False, profile_image_url='http://pbs.twimg.com/profile_images/1110178686450483200/F5-Jmzk7_normal.png', profile_image_url_https='https://pbs.twimg.com/profile_images/1110178686450483200/F5-Jmzk7_normal.png', profile_banner_url='https://pbs.twimg.com/profile_banners/19701628/1553522020', profile_link_color='000000', profile_sidebar_border_color='000000', profile_sidebar_fill_color='DDEEF6', profile_text_color='333333', profile_use_background_image=False, has_extended_profile=False, default_profile=False, default_profile_image=False, following=False, follow_request_sent=False, notifications=False, translator_type='regular'), geo=None, coordinates=None, place=None, contributors=None, is_quote_status=False, retweet_count=49, favorite_count=230, favorited=False, retweeted=False, possibly_sensitive=False, lang='en'), is_quote_status=False, retweet_count=49, favorite_count=0, favorited=False, retweeted=False, lang='en')"
      ]
     },
     "execution_count": 15,
     "metadata": {},
     "output_type": "execute_result"
    }
   ],
   "source": [
    "tweets_list[0]"
   ]
  },
  {
   "cell_type": "code",
   "execution_count": 22,
   "metadata": {},
   "outputs": [],
   "source": [
    "user_list = []\n",
    "tweet_text_list = []\n",
    "compound_list = []\n",
    "positive_list = []\n",
    "negative_list = []\n",
    "neutral_list = []\n",
    "\n",
    "# Loop through all tweets\n",
    "for tweet in tweets_list:\n",
    "    \n",
    "        # Run Vader Analysis on each tweet\n",
    "        tweet_user = tweet.user.screen_name \n",
    "        tweet_text = tweet.full_text \n",
    "        \n",
    "        #Run sentiments analysis using --tweet.full_text--\n",
    "        results = analyzer.polarity_scores(tweet_text)\n",
    "        com = results[\"compound\"]\n",
    "        pos = results[\"pos\"]\n",
    "        neu = results[\"neu\"]\n",
    "        neg = results[\"neg\"]\n",
    "\n",
    "        # Add each value to the appropriate list created above\n",
    "        user_list.append(tweet_user)\n",
    "        tweet_text_list.append(tweet_text)\n",
    "        compound_list.append(com)\n",
    "        positive_list.append(pos)\n",
    "        negative_list.append(neg)\n",
    "        neutral_list.append(neu)"
   ]
  },
  {
   "cell_type": "code",
   "execution_count": 24,
   "metadata": {},
   "outputs": [
    {
     "name": "stderr",
     "output_type": "stream",
     "text": [
      "/Users/pariya/opt/anaconda3/lib/python3.7/site-packages/ipykernel_launcher.py:11: FutureWarning: Passing a negative integer is deprecated in version 1.0 and will not be supported in future version. Instead, use None to not limit the column width.\n",
      "  # This is added back by InteractiveShellApp.init_path()\n"
     ]
    },
    {
     "data": {
      "text/html": [
       "<div>\n",
       "<style scoped>\n",
       "    .dataframe tbody tr th:only-of-type {\n",
       "        vertical-align: middle;\n",
       "    }\n",
       "\n",
       "    .dataframe tbody tr th {\n",
       "        vertical-align: top;\n",
       "    }\n",
       "\n",
       "    .dataframe thead th {\n",
       "        text-align: right;\n",
       "    }\n",
       "</style>\n",
       "<table border=\"1\" class=\"dataframe\">\n",
       "  <thead>\n",
       "    <tr style=\"text-align: right;\">\n",
       "      <th></th>\n",
       "      <th>User</th>\n",
       "      <th>Search Term</th>\n",
       "      <th>Tweet Text</th>\n",
       "      <th>Compound</th>\n",
       "      <th>Positive</th>\n",
       "      <th>Negative</th>\n",
       "      <th>Neutral</th>\n",
       "    </tr>\n",
       "  </thead>\n",
       "  <tbody>\n",
       "    <tr>\n",
       "      <th>0</th>\n",
       "      <td>yhdenpojanaiti</td>\n",
       "      <td>@BBC</td>\n",
       "      <td>#hakekaakätilö @CallTheMidwife1  @BBC @Yleisradio #NurseCrane I want to be like her💕👍🏻 https://t.co/TF0LVfLgOI</td>\n",
       "      <td>0.4215</td>\n",
       "      <td>0.183</td>\n",
       "      <td>0.000</td>\n",
       "      <td>0.817</td>\n",
       "    </tr>\n",
       "    <tr>\n",
       "      <th>1</th>\n",
       "      <td>owlhous</td>\n",
       "      <td>@BBC</td>\n",
       "      <td>RT @Antonineone1: #Marr\\nIs the @BBC 'shielding' us from bad news?\\nOr is it wrapping the government in its protective arms?\\n#KeepTheLockdown…</td>\n",
       "      <td>-0.5940</td>\n",
       "      <td>0.000</td>\n",
       "      <td>0.155</td>\n",
       "      <td>0.845</td>\n",
       "    </tr>\n",
       "    <tr>\n",
       "      <th>2</th>\n",
       "      <td>brenpage72</td>\n",
       "      <td>@BBC</td>\n",
       "      <td>RT @Antonineone1: #Marr\\nIs the @BBC 'shielding' us from bad news?\\nOr is it wrapping the government in its protective arms?\\n#KeepTheLockdown</td>\n",
       "      <td>-0.5940</td>\n",
       "      <td>0.000</td>\n",
       "      <td>0.155</td>\n",
       "      <td>0.845</td>\n",
       "    </tr>\n",
       "    <tr>\n",
       "      <th>3</th>\n",
       "      <td>Patrick49920857</td>\n",
       "      <td>@BBC</td>\n",
       "      <td>RT @aRTHUr98798756: @AndrewMarr9 and @BBC \\n'on message' #widenschoolopening #statepropaganda\\neffing disgrace that we pay a licence fee for…</td>\n",
       "      <td>-0.5984</td>\n",
       "      <td>0.000</td>\n",
       "      <td>0.234</td>\n",
       "      <td>0.766</td>\n",
       "    </tr>\n",
       "    <tr>\n",
       "      <th>4</th>\n",
       "      <td>ArchenBaloch</td>\n",
       "      <td>@BBC</td>\n",
       "      <td>العثور على سفير الصين في إسرائيل ميتا في منزله بتل أبيب https://t.co/o2TEHWCNC4 via @BBC</td>\n",
       "      <td>0.0000</td>\n",
       "      <td>0.000</td>\n",
       "      <td>0.000</td>\n",
       "      <td>1.000</td>\n",
       "    </tr>\n",
       "    <tr>\n",
       "      <th>...</th>\n",
       "      <td>...</td>\n",
       "      <td>...</td>\n",
       "      <td>...</td>\n",
       "      <td>...</td>\n",
       "      <td>...</td>\n",
       "      <td>...</td>\n",
       "      <td>...</td>\n",
       "    </tr>\n",
       "    <tr>\n",
       "      <th>398</th>\n",
       "      <td>Una_Alta_Volta</td>\n",
       "      <td>@Fox</td>\n",
       "      <td>FIRST AN ALTERCATION WITH MR.NAVARRO&amp;amp;NOW THIS💔😡\\nNo wonder ppl are deserting @fox and viewing @newsmax or @AONN -WOW! FOX News Douche Leland Vittert Runs Disgusting Hit Piece on Michael Flynn -- Accuses Him of Being Liar, Omits ALL OF THE FACTS (VIDEO) https://t.co/d07BfZnJfp</td>\n",
       "      <td>-0.9039</td>\n",
       "      <td>0.073</td>\n",
       "      <td>0.285</td>\n",
       "      <td>0.643</td>\n",
       "    </tr>\n",
       "    <tr>\n",
       "      <th>399</th>\n",
       "      <td>NoFanofDFTfans</td>\n",
       "      <td>@Fox</td>\n",
       "      <td>@fox.  Why do you have so many uneducated entertainers on your stations instead of true fact reporters? https://t.co/VcopWwmGZ5</td>\n",
       "      <td>0.6204</td>\n",
       "      <td>0.240</td>\n",
       "      <td>0.000</td>\n",
       "      <td>0.760</td>\n",
       "    </tr>\n",
       "    <tr>\n",
       "      <th>400</th>\n",
       "      <td>grancys2goldens</td>\n",
       "      <td>@New York times</td>\n",
       "      <td>@New York Times news , what would Joseph Pulitzer think of your award ? Excellence in newspaper journalism .</td>\n",
       "      <td>0.8225</td>\n",
       "      <td>0.309</td>\n",
       "      <td>0.000</td>\n",
       "      <td>0.691</td>\n",
       "    </tr>\n",
       "    <tr>\n",
       "      <th>401</th>\n",
       "      <td>buzzardb5</td>\n",
       "      <td>@New York times</td>\n",
       "      <td>@dbongino @seanhannity @IngrahamAngle @JesseBWatters @TuckerCarlson @CNNPolitics @new York times@wsj@pelosi @shitty shciff can you explain to me why Democrats don’t want us at the poles but it’s ok for the huge lines at Walmart Costco Home Depot and Lowe’s this needs to seen</td>\n",
       "      <td>0.5574</td>\n",
       "      <td>0.146</td>\n",
       "      <td>0.049</td>\n",
       "      <td>0.805</td>\n",
       "    </tr>\n",
       "    <tr>\n",
       "      <th>402</th>\n",
       "      <td>yaelpiveyahooc1</td>\n",
       "      <td>@New York times</td>\n",
       "      <td>@JohnMAckerman @nytimes @ClaudioXGG @azamsahmed Este @New York times ???? 😂😂😂😂😂😂😂😂😂😂😂😂😂😂😂😂😂😂 https://t.co/0zKI0irVtZ</td>\n",
       "      <td>0.9940</td>\n",
       "      <td>0.414</td>\n",
       "      <td>0.204</td>\n",
       "      <td>0.382</td>\n",
       "    </tr>\n",
       "  </tbody>\n",
       "</table>\n",
       "<p>403 rows × 7 columns</p>\n",
       "</div>"
      ],
      "text/plain": [
       "                User      Search Term  \\\n",
       "0    yhdenpojanaiti   @BBC              \n",
       "1    owlhous          @BBC              \n",
       "2    brenpage72       @BBC              \n",
       "3    Patrick49920857  @BBC              \n",
       "4    ArchenBaloch     @BBC              \n",
       "..            ...      ...              \n",
       "398  Una_Alta_Volta   @Fox              \n",
       "399  NoFanofDFTfans   @Fox              \n",
       "400  grancys2goldens  @New York times   \n",
       "401  buzzardb5        @New York times   \n",
       "402  yaelpiveyahooc1  @New York times   \n",
       "\n",
       "                                                                                                                                                                                                                                                                                   Tweet Text  \\\n",
       "0    #hakekaakätilö @CallTheMidwife1  @BBC @Yleisradio #NurseCrane I want to be like her💕👍🏻 https://t.co/TF0LVfLgOI                                                                                                                                                                             \n",
       "1    RT @Antonineone1: #Marr\\nIs the @BBC 'shielding' us from bad news?\\nOr is it wrapping the government in its protective arms?\\n#KeepTheLockdown…                                                                                                                                            \n",
       "2    RT @Antonineone1: #Marr\\nIs the @BBC 'shielding' us from bad news?\\nOr is it wrapping the government in its protective arms?\\n#KeepTheLockdown                                                                                                                                             \n",
       "3    RT @aRTHUr98798756: @AndrewMarr9 and @BBC \\n'on message' #widenschoolopening #statepropaganda\\neffing disgrace that we pay a licence fee for…                                                                                                                                              \n",
       "4    العثور على سفير الصين في إسرائيل ميتا في منزله بتل أبيب https://t.co/o2TEHWCNC4 via @BBC                                                                                                                                                                                                   \n",
       "..                                                                                        ...                                                                                                                                                                                                   \n",
       "398  FIRST AN ALTERCATION WITH MR.NAVARRO&amp;NOW THIS💔😡\\nNo wonder ppl are deserting @fox and viewing @newsmax or @AONN -WOW! FOX News Douche Leland Vittert Runs Disgusting Hit Piece on Michael Flynn -- Accuses Him of Being Liar, Omits ALL OF THE FACTS (VIDEO) https://t.co/d07BfZnJfp   \n",
       "399  @fox.  Why do you have so many uneducated entertainers on your stations instead of true fact reporters? https://t.co/VcopWwmGZ5                                                                                                                                                            \n",
       "400  @New York Times news , what would Joseph Pulitzer think of your award ? Excellence in newspaper journalism .                                                                                                                                                                               \n",
       "401  @dbongino @seanhannity @IngrahamAngle @JesseBWatters @TuckerCarlson @CNNPolitics @new York times@wsj@pelosi @shitty shciff can you explain to me why Democrats don’t want us at the poles but it’s ok for the huge lines at Walmart Costco Home Depot and Lowe’s this needs to seen        \n",
       "402  @JohnMAckerman @nytimes @ClaudioXGG @azamsahmed Este @New York times ???? 😂😂😂😂😂😂😂😂😂😂😂😂😂😂😂😂😂😂 https://t.co/0zKI0irVtZ                                                                                                                                                                       \n",
       "\n",
       "     Compound  Positive  Negative  Neutral  \n",
       "0    0.4215    0.183     0.000     0.817    \n",
       "1   -0.5940    0.000     0.155     0.845    \n",
       "2   -0.5940    0.000     0.155     0.845    \n",
       "3   -0.5984    0.000     0.234     0.766    \n",
       "4    0.0000    0.000     0.000     1.000    \n",
       "..      ...      ...       ...       ...    \n",
       "398 -0.9039    0.073     0.285     0.643    \n",
       "399  0.6204    0.240     0.000     0.760    \n",
       "400  0.8225    0.309     0.000     0.691    \n",
       "401  0.5574    0.146     0.049     0.805    \n",
       "402  0.9940    0.414     0.204     0.382    \n",
       "\n",
       "[403 rows x 7 columns]"
      ]
     },
     "execution_count": 24,
     "metadata": {},
     "output_type": "execute_result"
    }
   ],
   "source": [
    "result_df = pd.DataFrame({\n",
    "    'User': user_list,\n",
    "    'Search Term': search_term_list,\n",
    "    'Tweet Text': tweet_text_list,\n",
    "    'Compound': compound_list,\n",
    "    'Positive': positive_list,\n",
    "    'Negative': negative_list,\n",
    "    'Neutral': neutral_list,\n",
    "})\n",
    "\n",
    "pd.set_option('display.max_colwidth', -1)\n",
    "\n",
    "result_df"
   ]
  },
  {
   "cell_type": "code",
   "execution_count": 79,
   "metadata": {},
   "outputs": [
    {
     "name": "stderr",
     "output_type": "stream",
     "text": [
      "/Users/pariya/opt/anaconda3/lib/python3.7/site-packages/ipykernel_launcher.py:2: FutureWarning: Indexing with multiple keys (implicitly converted to a tuple of keys) will be deprecated, use a list instead.\n",
      "  \n"
     ]
    },
    {
     "data": {
      "text/plain": [
       "<pandas.core.groupby.generic.DataFrameGroupBy object at 0x12011ba10>"
      ]
     },
     "execution_count": 79,
     "metadata": {},
     "output_type": "execute_result"
    }
   ],
   "source": [
    "#result_df_group = result_df.groupby('Search Term')\n",
    "#summary = result_df_group['Compound','Positive','Neutral','Negative'].\n",
    "#summary\n",
    "\n"
   ]
  },
  {
   "cell_type": "code",
   "execution_count": null,
   "metadata": {},
   "outputs": [],
   "source": []
  },
  {
   "cell_type": "code",
   "execution_count": 49,
   "metadata": {},
   "outputs": [],
   "source": [
    "import numpy as np\n",
    "import matplotlib.pyplot as plt"
   ]
  },
  {
   "cell_type": "code",
   "execution_count": 90,
   "metadata": {},
   "outputs": [
    {
     "data": {
      "image/png": "[encoded data removed]",
      "text/plain": [
       "<Figure size 720x360 with 1 Axes>"
      ]
     },
     "metadata": {
      "needs_background": "light"
     },
     "output_type": "display_data"
    }
   ],
   "source": [
    "# Scatter Plot\n",
    "fig, ax = plt.subplots(figsize=(10, 5))\n",
    "\n",
    "ax.scatter(result_df['Search Term'], result_df['Compound'], color=\"b\", alpha=0.2)\n",
    "ax.scatter(result_df['Search Term'], result_df['Positive'], color=\"r\", alpha=0.2)\n",
    "ax.scatter(result_df['Search Term'], result_df['Negative'], color=\"g\", alpha=0.2)\n",
    "ax.scatter(result_df['Search Term'], result_df['Neutral'], color=\"y\", alpha=0.2)\n",
    "\n",
    "\n",
    "\n",
    "ax.set_xlabel('News Organizations', fontsize=15)\n",
    "ax.set_ylabel('Scores', fontsize=15)\n",
    "ax.set_title('Sentiment Intensity Score for each News Organizations')\n",
    "\n",
    "ax.grid(alpha=.2)\n",
    "fig.tight_layout()\n",
    "\n",
    "plt.show()"
   ]
  },
  {
   "cell_type": "code",
   "execution_count": null,
   "metadata": {},
   "outputs": [],
   "source": []
  },
  {
   "cell_type": "code",
   "execution_count": null,
   "metadata": {},
   "outputs": [],
   "source": []
  },
  {
   "cell_type": "code",
   "execution_count": null,
   "metadata": {},
   "outputs": [],
   "source": []
  }
 ],
 "metadata": {
  "kernelspec": {
   "display_name": "Python 3",
   "language": "python",
   "name": "python3"
  },
  "language_info": {
   "codemirror_mode": {
    "name": "ipython",
    "version": 3
   },
   "file_extension": ".py",
   "mimetype": "text/x-python",
   "name": "python",
   "nbconvert_exporter": "python",
   "pygments_lexer": "ipython3",
   "version": "3.7.6"
  }
 },
 "nbformat": 4,
 "nbformat_minor": 4
}

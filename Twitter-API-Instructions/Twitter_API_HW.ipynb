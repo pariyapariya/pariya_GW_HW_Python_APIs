{
 "cells": [
  {
   "cell_type": "code",
   "execution_count": 2,
   "metadata": {},
   "outputs": [],
   "source": [
    "#!pip install vaderSentiment "
   ]
  },
  {
   "cell_type": "code",
   "execution_count": 3,
   "metadata": {},
   "outputs": [],
   "source": [
    "# Dependencies\n",
    "import tweepy\n",
    "import os\n",
    "import numpy as np\n",
    "import pandas as pd\n",
    "import datetime\n",
    "\n",
    "# Import and Initialize Sentiment Analyzer\n",
    "from vaderSentiment.vaderSentiment import SentimentIntensityAnalyzer\n",
    "analyzer = SentimentIntensityAnalyzer()"
   ]
  },
  {
   "cell_type": "code",
   "execution_count": 4,
   "metadata": {},
   "outputs": [
    {
     "name": "stdout",
     "output_type": "stream",
     "text": [
      "/Users/pariya/Desktop/pariya_GW_HW_Python_APIs/Twitter-API-Instructions\n"
     ]
    }
   ],
   "source": [
    "# Get the current working directory\n",
    "orig_working_directory = os.getcwd()\n",
    "print(orig_working_directory)"
   ]
  },
  {
   "cell_type": "code",
   "execution_count": 5,
   "metadata": {},
   "outputs": [
    {
     "data": {
      "text/plain": [
       "'/Users/pariya/Desktop/gwu-arl-data-pt-03-2020-u-c'"
      ]
     },
     "execution_count": 5,
     "metadata": {},
     "output_type": "execute_result"
    }
   ],
   "source": [
    "# get back up 2 level to be on Desktop first, then navigate to 'gwu-' directory which contains config.py inside\n",
    "os.chdir(os.path.join('..','..','gwu-arl-data-pt-03-2020-u-c'))\n",
    "\n",
    "# Now, you can see the new working directory\n",
    "curr_working_directory = os.getcwd()\n",
    "os.getcwd()"
   ]
  },
  {
   "cell_type": "code",
   "execution_count": 6,
   "metadata": {},
   "outputs": [],
   "source": [
    "# Twitter API Keys\n",
    "from config import (consumer_key, \n",
    "                    consumer_secret, \n",
    "                    access_token, \n",
    "                    access_token_secret)\n",
    "\n",
    "# Setup Tweepy API Authentication\n",
    "auth = tweepy.OAuthHandler(consumer_key, consumer_secret)\n",
    "auth.set_access_token(access_token, access_token_secret)\n",
    "api = tweepy.API(auth, wait_on_rate_limit=True) # This'll make the rest of the code obey the rate limit. StackOverFlow"
   ]
  },
  {
   "cell_type": "code",
   "execution_count": 7,
   "metadata": {},
   "outputs": [],
   "source": [
    "# Target Search Term ----- BBC, CBS, CNN, Fox, and New York times\n",
    "target_terms = (\"@BBC\", \"@CBS\", \"@CNN\", \"@Fox\", \"@New York times\")\n",
    "\n",
    "# Appended Lists\n",
    "tweets_list = []\n",
    "search_term_list = []\n",
    "\n",
    "# Loop thru all target users\n",
    "for target in target_terms:\n",
    "    \n",
    "    # Iterate thru the ---most recent 100 tweets on target users---\n",
    "     for tweet in tweepy.Cursor(api.search, target, tweet_mode='extended').items(100):\n",
    "        tweets_list.append(tweet)    \n",
    "        search_term_list.append(target)\n",
    "\n",
    "        #tweets_list[0]\n",
    "\n",
    "        user_list = []\n",
    "        text_list = []\n",
    "        createdOn_list = []\n",
    "\n",
    "        compound_list = []\n",
    "        positive_list = []\n",
    "        negative_list = []\n",
    "        neutral_list = []\n",
    "\n",
    "        # Loop through all tweets\n",
    "        for tweet in tweets_list:\n",
    "                    \n",
    "            # Run VADER Analysis on each tweet\n",
    "            tweet_user = tweet.user.screen_name\n",
    "            tweet_text = tweet.full_text\n",
    "            tweet_created = tweet.created_at      \n",
    "        \n",
    "            # Run sentiments analysis using --tweet.full_text--\n",
    "            results = analyzer.polarity_scores(tweet_text)\n",
    "            com = results[\"compound\"]\n",
    "            pos = results[\"pos\"]\n",
    "            neg = results[\"neg\"]\n",
    "            neu = results[\"neu\"]\n",
    "\n",
    "            # Store each value to the appropriate list created above\n",
    "            user_list.append(tweet_user)\n",
    "            text_list.append(tweet_text)\n",
    "            createdOn_list.append(tweet_created)\n",
    "        \n",
    "            compound_list.append(com)\n",
    "            positive_list.append(pos)\n",
    "            negative_list.append(neg)\n",
    "            neutral_list.append(neu)"
   ]
  },
  {
   "cell_type": "code",
   "execution_count": 8,
   "metadata": {},
   "outputs": [
    {
     "name": "stderr",
     "output_type": "stream",
     "text": [
      "/Users/pariya/opt/anaconda3/lib/python3.7/site-packages/ipykernel_launcher.py:12: FutureWarning: Passing a negative integer is deprecated in version 1.0 and will not be supported in future version. Instead, use None to not limit the column width.\n",
      "  if sys.path[0] == '':\n"
     ]
    }
   ],
   "source": [
    "result_df = pd.DataFrame({\n",
    "    'User': user_list,\n",
    "    'Search Term': search_term_list,\n",
    "    'Tweet Text': text_list,\n",
    "    'Created on': createdOn_list,\n",
    "    'Compound': compound_list,\n",
    "    'Positive': positive_list,\n",
    "    'Negative': negative_list,\n",
    "    'Neutral': neutral_list,\n",
    "})\n",
    "\n",
    "pd.set_option('display.max_colwidth', -1)"
   ]
  },
  {
   "cell_type": "code",
   "execution_count": 9,
   "metadata": {},
   "outputs": [],
   "source": [
    "#result_sorted = result_df.sort_values(by=['Created on'])"
   ]
  },
  {
   "cell_type": "code",
   "execution_count": 10,
   "metadata": {},
   "outputs": [
    {
     "data": {
      "text/html": [
       "<div>\n",
       "<style scoped>\n",
       "    .dataframe tbody tr th:only-of-type {\n",
       "        vertical-align: middle;\n",
       "    }\n",
       "\n",
       "    .dataframe tbody tr th {\n",
       "        vertical-align: top;\n",
       "    }\n",
       "\n",
       "    .dataframe thead th {\n",
       "        text-align: right;\n",
       "    }\n",
       "</style>\n",
       "<table border=\"1\" class=\"dataframe\">\n",
       "  <thead>\n",
       "    <tr style=\"text-align: right;\">\n",
       "      <th></th>\n",
       "      <th>User</th>\n",
       "      <th>Search Term</th>\n",
       "      <th>Tweet Text</th>\n",
       "      <th>Created on</th>\n",
       "      <th>Compound</th>\n",
       "      <th>Positive</th>\n",
       "      <th>Negative</th>\n",
       "      <th>Neutral</th>\n",
       "      <th>Timestamps</th>\n",
       "    </tr>\n",
       "  </thead>\n",
       "  <tbody>\n",
       "    <tr>\n",
       "      <th>0</th>\n",
       "      <td>OjukwuStanley12</td>\n",
       "      <td>@BBC</td>\n",
       "      <td>RT @IpobosisiomaLga: Stop dreaming!, #IPOB will never relent,all of you Yoruba media on Twitter and Facebook bearing Igbo Names,\\nhow do you…</td>\n",
       "      <td>2020-05-22 09:14:42</td>\n",
       "      <td>-0.3595</td>\n",
       "      <td>0.000</td>\n",
       "      <td>0.106</td>\n",
       "      <td>0.894</td>\n",
       "      <td>1590138882</td>\n",
       "    </tr>\n",
       "    <tr>\n",
       "      <th>1</th>\n",
       "      <td>MartineGee1</td>\n",
       "      <td>@BBC</td>\n",
       "      <td>@HollyAnnPerks1 @StarbucksUK @BBC So, in short, you don’t have the information and can’t answer the question. Embarrassing!</td>\n",
       "      <td>2020-05-22 09:14:21</td>\n",
       "      <td>-0.4389</td>\n",
       "      <td>0.000</td>\n",
       "      <td>0.153</td>\n",
       "      <td>0.847</td>\n",
       "      <td>1590138861</td>\n",
       "    </tr>\n",
       "    <tr>\n",
       "      <th>2</th>\n",
       "      <td>ed19mitch</td>\n",
       "      <td>@BBC</td>\n",
       "      <td>@YardleyShooting @BBC Forensic questions but no forensic answers.</td>\n",
       "      <td>2020-05-22 09:14:19</td>\n",
       "      <td>-0.4215</td>\n",
       "      <td>0.000</td>\n",
       "      <td>0.286</td>\n",
       "      <td>0.714</td>\n",
       "      <td>1590138859</td>\n",
       "    </tr>\n",
       "    <tr>\n",
       "      <th>3</th>\n",
       "      <td>eyehandman</td>\n",
       "      <td>@BBC</td>\n",
       "      <td>RT @GlassAnimals: the bbc asked me to play some instruments on my stoop. so naturally i put on my overalls\\nfor the occasion. thank u @BBC.…</td>\n",
       "      <td>2020-05-22 09:13:57</td>\n",
       "      <td>0.5994</td>\n",
       "      <td>0.170</td>\n",
       "      <td>0.000</td>\n",
       "      <td>0.830</td>\n",
       "      <td>1590138837</td>\n",
       "    </tr>\n",
       "    <tr>\n",
       "      <th>4</th>\n",
       "      <td>jameseonline</td>\n",
       "      <td>@BBC</td>\n",
       "      <td>RT @BBC: ‘I’d describe it like the reactions inside the sun.’\\n\\nThis is what it's like to live with severe anxiety.\\n\\n#MentalHealth @BBC_Teac…</td>\n",
       "      <td>2020-05-22 09:13:54</td>\n",
       "      <td>0.1779</td>\n",
       "      <td>0.177</td>\n",
       "      <td>0.152</td>\n",
       "      <td>0.671</td>\n",
       "      <td>1590138834</td>\n",
       "    </tr>\n",
       "    <tr>\n",
       "      <th>...</th>\n",
       "      <td>...</td>\n",
       "      <td>...</td>\n",
       "      <td>...</td>\n",
       "      <td>...</td>\n",
       "      <td>...</td>\n",
       "      <td>...</td>\n",
       "      <td>...</td>\n",
       "      <td>...</td>\n",
       "      <td>...</td>\n",
       "    </tr>\n",
       "    <tr>\n",
       "      <th>397</th>\n",
       "      <td>Socratic1</td>\n",
       "      <td>@Fox</td>\n",
       "      <td>@JoshuaPotash @TuckerCarlson is endangering people’s lives by spreading lies.  @FOX should be put on notice that he’s using his public persona making proven inaccurate statements that could kill people.  There is irrefutable data from 50 states.  #BoycottFOX</td>\n",
       "      <td>2020-05-22 01:25:38</td>\n",
       "      <td>-0.8176</td>\n",
       "      <td>0.000</td>\n",
       "      <td>0.176</td>\n",
       "      <td>0.824</td>\n",
       "      <td>1590110738</td>\n",
       "    </tr>\n",
       "    <tr>\n",
       "      <th>398</th>\n",
       "      <td>trisweb</td>\n",
       "      <td>@Fox</td>\n",
       "      <td>@buzzusborne @fox Yep. That's kind of a problem right now then...</td>\n",
       "      <td>2020-05-22 01:24:53</td>\n",
       "      <td>-0.1280</td>\n",
       "      <td>0.158</td>\n",
       "      <td>0.194</td>\n",
       "      <td>0.647</td>\n",
       "      <td>1590110693</td>\n",
       "    </tr>\n",
       "    <tr>\n",
       "      <th>399</th>\n",
       "      <td>grahamyoung</td>\n",
       "      <td>@Fox</td>\n",
       "      <td>@buzzusborne @fox How do I get in the being mentored by Buzz club?</td>\n",
       "      <td>2020-05-22 01:23:57</td>\n",
       "      <td>0.0000</td>\n",
       "      <td>0.000</td>\n",
       "      <td>0.000</td>\n",
       "      <td>1.000</td>\n",
       "      <td>1590110637</td>\n",
       "    </tr>\n",
       "    <tr>\n",
       "      <th>400</th>\n",
       "      <td>jpschultze</td>\n",
       "      <td>@New York times</td>\n",
       "      <td>Neither here nor in article today in @New York Times is mention of unproductive time.  Prior to pandemic, encouraged to arrive at airport 1-2 hours prior to flight; post pandemic could be 3-4 hours?!  Puts roadway infrastructure issues in perspective!! https://t.co/2D0oIEpy0V</td>\n",
       "      <td>2020-05-19 19:51:02</td>\n",
       "      <td>0.5229</td>\n",
       "      <td>0.078</td>\n",
       "      <td>0.000</td>\n",
       "      <td>0.922</td>\n",
       "      <td>1589917862</td>\n",
       "    </tr>\n",
       "    <tr>\n",
       "      <th>401</th>\n",
       "      <td>olddollarbull</td>\n",
       "      <td>@New York times</td>\n",
       "      <td>@CHSommers @nytimes I nominate the ombudsman for the @New York Times</td>\n",
       "      <td>2020-05-19 19:17:36</td>\n",
       "      <td>0.0000</td>\n",
       "      <td>0.000</td>\n",
       "      <td>0.000</td>\n",
       "      <td>1.000</td>\n",
       "      <td>1589915856</td>\n",
       "    </tr>\n",
       "  </tbody>\n",
       "</table>\n",
       "<p>402 rows × 9 columns</p>\n",
       "</div>"
      ],
      "text/plain": [
       "                User      Search Term  \\\n",
       "0    OjukwuStanley12  @BBC              \n",
       "1    MartineGee1      @BBC              \n",
       "2    ed19mitch        @BBC              \n",
       "3    eyehandman       @BBC              \n",
       "4    jameseonline     @BBC              \n",
       "..            ...      ...              \n",
       "397  Socratic1        @Fox              \n",
       "398  trisweb          @Fox              \n",
       "399  grahamyoung      @Fox              \n",
       "400  jpschultze       @New York times   \n",
       "401  olddollarbull    @New York times   \n",
       "\n",
       "                                                                                                                                                                                                                                                                               Tweet Text  \\\n",
       "0    RT @IpobosisiomaLga: Stop dreaming!, #IPOB will never relent,all of you Yoruba media on Twitter and Facebook bearing Igbo Names,\\nhow do you…                                                                                                                                          \n",
       "1    @HollyAnnPerks1 @StarbucksUK @BBC So, in short, you don’t have the information and can’t answer the question. Embarrassing!                                                                                                                                                            \n",
       "2    @YardleyShooting @BBC Forensic questions but no forensic answers.                                                                                                                                                                                                                      \n",
       "3    RT @GlassAnimals: the bbc asked me to play some instruments on my stoop. so naturally i put on my overalls\\nfor the occasion. thank u @BBC.…                                                                                                                                           \n",
       "4    RT @BBC: ‘I’d describe it like the reactions inside the sun.’\\n\\nThis is what it's like to live with severe anxiety.\\n\\n#MentalHealth @BBC_Teac…                                                                                                                                       \n",
       "..                                                                                                                                                ...                                                                                                                                       \n",
       "397  @JoshuaPotash @TuckerCarlson is endangering people’s lives by spreading lies.  @FOX should be put on notice that he’s using his public persona making proven inaccurate statements that could kill people.  There is irrefutable data from 50 states.  #BoycottFOX                     \n",
       "398  @buzzusborne @fox Yep. That's kind of a problem right now then...                                                                                                                                                                                                                      \n",
       "399  @buzzusborne @fox How do I get in the being mentored by Buzz club?                                                                                                                                                                                                                     \n",
       "400  Neither here nor in article today in @New York Times is mention of unproductive time.  Prior to pandemic, encouraged to arrive at airport 1-2 hours prior to flight; post pandemic could be 3-4 hours?!  Puts roadway infrastructure issues in perspective!! https://t.co/2D0oIEpy0V   \n",
       "401  @CHSommers @nytimes I nominate the ombudsman for the @New York Times                                                                                                                                                                                                                   \n",
       "\n",
       "             Created on  Compound  Positive  Negative  Neutral  Timestamps  \n",
       "0   2020-05-22 09:14:42 -0.3595    0.000     0.106     0.894    1590138882  \n",
       "1   2020-05-22 09:14:21 -0.4389    0.000     0.153     0.847    1590138861  \n",
       "2   2020-05-22 09:14:19 -0.4215    0.000     0.286     0.714    1590138859  \n",
       "3   2020-05-22 09:13:57  0.5994    0.170     0.000     0.830    1590138837  \n",
       "4   2020-05-22 09:13:54  0.1779    0.177     0.152     0.671    1590138834  \n",
       "..                  ...     ...      ...       ...       ...           ...  \n",
       "397 2020-05-22 01:25:38 -0.8176    0.000     0.176     0.824    1590110738  \n",
       "398 2020-05-22 01:24:53 -0.1280    0.158     0.194     0.647    1590110693  \n",
       "399 2020-05-22 01:23:57  0.0000    0.000     0.000     1.000    1590110637  \n",
       "400 2020-05-19 19:51:02  0.5229    0.078     0.000     0.922    1589917862  \n",
       "401 2020-05-19 19:17:36  0.0000    0.000     0.000     1.000    1589915856  \n",
       "\n",
       "[402 rows x 9 columns]"
      ]
     },
     "execution_count": 10,
     "metadata": {},
     "output_type": "execute_result"
    }
   ],
   "source": [
    "result_df['Timestamps'] = result_df['Created on'].values.astype(np.int) // 10 ** 9\n",
    "result_df"
   ]
  },
  {
   "cell_type": "code",
   "execution_count": 29,
   "metadata": {},
   "outputs": [],
   "source": [
    "result_df.to_csv('../sentiment_analysis.csv', index=False)"
   ]
  },
  {
   "cell_type": "code",
   "execution_count": 12,
   "metadata": {},
   "outputs": [],
   "source": [
    "import numpy as np\n",
    "import matplotlib.pyplot as plt"
   ]
  },
  {
   "cell_type": "code",
   "execution_count": 13,
   "metadata": {},
   "outputs": [],
   "source": [
    "#ts_max = result_df['Timestamps'].max()\n",
    "#ts_min = result_df['Timestamps'].min()\n",
    "#print(ts_max, ts_min)"
   ]
  },
  {
   "cell_type": "code",
   "execution_count": 14,
   "metadata": {},
   "outputs": [],
   "source": [
    "# Filter each News channel to work on ---@BBC, @CBS, @CNN, @Fox, @New York times---\n",
    "bbc = result_df.loc[result_df['Search Term']=='@BBC', :]\n",
    "cbs = result_df.loc[result_df['Search Term']=='@CBS', :]\n",
    "cnn = result_df.loc[result_df['Search Term']=='@CNN', :]\n",
    "fox = result_df.loc[result_df['Search Term']=='@Fox', :]\n",
    "nyt = result_df.loc[result_df['Search Term']=='@New York times', :]"
   ]
  },
  {
   "cell_type": "code",
   "execution_count": 17,
   "metadata": {},
   "outputs": [],
   "source": [
    "# convert DATE&TIME to Timestamps\n",
    "#bbc['bbc_ts'] = bbc['Created on'].values.astype(np.int) // 10 ** 9\n",
    "#cbs['cbs_ts'] = cbs['Created on'].values.astype(np.int) // 10 ** 9\n",
    "#cnn['cnn_ts'] = cnn['Created on'].values.astype(np.int) // 10 ** 9\n",
    "#fox['fox_ts'] = fox['Created on'].values.astype(np.int) // 10 ** 9\n",
    "#nyt['nyt_ts'] = nyt['Created on'].values.astype(np.int) // 10 ** 9"
   ]
  },
  {
   "cell_type": "code",
   "execution_count": 18,
   "metadata": {},
   "outputs": [
    {
     "data": {
      "image/png": "[encoded data removed]",
      "text/plain": [
       "<Figure size 720x360 with 1 Axes>"
      ]
     },
     "metadata": {
      "needs_background": "light"
     },
     "output_type": "display_data"
    }
   ],
   "source": [
    "fig, ax = plt.subplots(figsize=(10, 5))\n",
    "\n",
    "ax.scatter(bbc['Timestamps'], bbc['Compound'], color=\"hotpink\", alpha=0.8)\n",
    "ax.scatter(cbs['Timestamps'], cbs['Compound'], color=\"gold\", alpha=0.8)\n",
    "ax.scatter(cnn['Timestamps'], cnn['Compound'], color=\"seagreen\", alpha=0.8)\n",
    "ax.scatter(fox['Timestamps'], fox['Compound'], color=\"royalblue\", alpha=0.8)\n",
    "ax.scatter(nyt['Timestamps'], nyt['Compound'], color=\"mediumvioletred\", alpha=0.8)\n",
    "\n",
    "ax.set_ylim(-1, 1)\n",
    "#ax.set_xlim(100, 0)\n",
    "ax.set_xlabel('News Channels', fontsize=13)\n",
    "ax.set_ylabel('Scores', fontsize=13)\n",
    "ax.set_title('Sentiment Intensity Score for each News Organizations', fontsize=15)\n",
    "\n",
    "ax.grid(alpha=.2)\n",
    "fig.tight_layout()\n",
    "\n",
    "plt.show()"
   ]
  },
  {
   "cell_type": "code",
   "execution_count": 30,
   "metadata": {},
   "outputs": [
    {
     "data": {
      "text/plain": [
       "(-0.1, 0.3)"
      ]
     },
     "execution_count": 30,
     "metadata": {},
     "output_type": "execute_result"
    },
    {
     "data": {
      "image/png": "[encoded data removed]",
      "text/plain": [
       "<Figure size 432x288 with 1 Axes>"
      ]
     },
     "metadata": {
      "needs_background": "light"
     },
     "output_type": "display_data"
    }
   ],
   "source": [
    "bbc_av = bbc['Compound'].mean()\n",
    "cbs_av = cbs['Compound'].mean()\n",
    "cnn_av = cnn['Compound'].mean()\n",
    "fox_av = fox['Compound'].mean()\n",
    "nyt_av = nyt['Compound'].mean()\n",
    "\n",
    "index = [\"@BBC\", \"@CBS\", \"@CNN\", \"@Fox\", \"@New York times\"]\n",
    "\n",
    "df = pd.DataFrame({'Channels': ['BBC', 'CBS', 'CNN', 'FOX', 'NYT'], \n",
    "                   'Tweet Polarity': [bbc_av, cbs_av, cnn_av, fox_av, nyt_av]})\n",
    "\n",
    "ax = df.plot.bar(x='Channels', y='Tweet Polarity', rot=0)\n",
    "\n",
    "ax.set_xlabel('News Channels', fontsize=13)\n",
    "ax.set_ylabel('Scores', fontsize=13)\n",
    "ax.set_title('Overall Media Sentiment based on Twitter (May 22nd, 2020)', fontsize=14)\n",
    "fig.tight_layout()\n",
    "\n",
    "ax.set_ylim(-0.1, 0.3)"
   ]
  },
  {
   "cell_type": "code",
   "execution_count": null,
   "metadata": {},
   "outputs": [],
   "source": []
  },
  {
   "cell_type": "code",
   "execution_count": null,
   "metadata": {},
   "outputs": [],
   "source": []
  },
  {
   "cell_type": "code",
   "execution_count": null,
   "metadata": {},
   "outputs": [],
   "source": []
  }
 ],
 "metadata": {
  "kernelspec": {
   "display_name": "Python 3",
   "language": "python",
   "name": "python3"
  },
  "language_info": {
   "codemirror_mode": {
    "name": "ipython",
    "version": 3
   },
   "file_extension": ".py",
   "mimetype": "text/x-python",
   "name": "python",
   "nbconvert_exporter": "python",
   "pygments_lexer": "ipython3",
   "version": "3.7.6"
  }
 },
 "nbformat": 4,
 "nbformat_minor": 4
}

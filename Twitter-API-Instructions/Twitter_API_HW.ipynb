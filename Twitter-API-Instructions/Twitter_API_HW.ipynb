{
 "cells": [
  {
   "cell_type": "code",
   "execution_count": 1,
   "metadata": {},
   "outputs": [],
   "source": [
    "#!pip install vaderSentiment "
   ]
  },
  {
   "cell_type": "code",
   "execution_count": 2,
   "metadata": {},
   "outputs": [],
   "source": [
    "# Dependencies\n",
    "import tweepy\n",
    "import os\n",
    "import numpy as np\n",
    "import pandas as pd\n",
    "import datetime\n",
    "\n",
    "# Import and Initialize Sentiment Analyzer\n",
    "from vaderSentiment.vaderSentiment import SentimentIntensityAnalyzer\n",
    "analyzer = SentimentIntensityAnalyzer()"
   ]
  },
  {
   "cell_type": "code",
   "execution_count": 3,
   "metadata": {},
   "outputs": [
    {
     "name": "stdout",
     "output_type": "stream",
     "text": [
      "/Users/pariya/Desktop/pariya_GW_HW_Python_APIs/Twitter-API-Instructions\n"
     ]
    }
   ],
   "source": [
    "# Get the current working directory\n",
    "orig_working_directory = os.getcwd()\n",
    "print(orig_working_directory)"
   ]
  },
  {
   "cell_type": "code",
   "execution_count": 4,
   "metadata": {},
   "outputs": [
    {
     "data": {
      "text/plain": [
       "'/Users/pariya/Desktop/gwu-arl-data-pt-03-2020-u-c'"
      ]
     },
     "execution_count": 4,
     "metadata": {},
     "output_type": "execute_result"
    }
   ],
   "source": [
    "# get back up 2 level to be on Desktop first, then navigate to 'gwu-' directory which contains config.py inside\n",
    "os.chdir(os.path.join('..','..','gwu-arl-data-pt-03-2020-u-c'))\n",
    "\n",
    "# Now, you can see the new working directory\n",
    "curr_working_directory = os.getcwd()\n",
    "os.getcwd()"
   ]
  },
  {
   "cell_type": "code",
   "execution_count": 5,
   "metadata": {},
   "outputs": [],
   "source": [
    "# Twitter API Keys\n",
    "from config import (consumer_key, \n",
    "                    consumer_secret, \n",
    "                    access_token, \n",
    "                    access_token_secret)\n",
    "\n",
    "# Setup Tweepy API Authentication\n",
    "auth = tweepy.OAuthHandler(consumer_key, consumer_secret)\n",
    "auth.set_access_token(access_token, access_token_secret)\n",
    "api = tweepy.API(auth, wait_on_rate_limit=True) # This'll make the rest of the code obey the rate limit. StackOverFlow"
   ]
  },
  {
   "cell_type": "code",
   "execution_count": 6,
   "metadata": {},
   "outputs": [],
   "source": [
    "# Target Search Term ----- BBC, CBS, CNN, Fox, and New York times\n",
    "target_terms = (\"@BBC\", \"@CBS\", \"@CNN\", \"@Fox\", \"@New York times\")\n",
    "\n",
    "# Appended Lists\n",
    "tweets_list = []\n",
    "search_term_list = []\n",
    "\n",
    "# Loop thru all target users\n",
    "for target in target_terms:\n",
    "    \n",
    "    # Iterate thru the ---most recent 100 tweets on target users---\n",
    "     for tweet in tweepy.Cursor(api.search, target, tweet_mode='extended').items(100):\n",
    "        tweets_list.append(tweet)    \n",
    "        search_term_list.append(target)\n",
    "\n",
    "        #tweets_list[0]\n",
    "\n",
    "        user_list = []\n",
    "        text_list = []\n",
    "        createdOn_list = []\n",
    "\n",
    "        compound_list = []\n",
    "        positive_list = []\n",
    "        negative_list = []\n",
    "        neutral_list = []\n",
    "\n",
    "        # Loop through all tweets\n",
    "        for tweet in tweets_list:\n",
    "                    \n",
    "            # Run VADER Analysis on each tweet\n",
    "            tweet_user = tweet.user.screen_name\n",
    "            tweet_text = tweet.full_text\n",
    "            tweet_created = tweet.created_at      \n",
    "        \n",
    "            # Run sentiments analysis using --tweet.full_text--\n",
    "            results = analyzer.polarity_scores(tweet_text)\n",
    "            com = results[\"compound\"]\n",
    "            pos = results[\"pos\"]\n",
    "            neg = results[\"neg\"]\n",
    "            neu = results[\"neu\"]\n",
    "\n",
    "            # Store each value to the appropriate list created above\n",
    "            user_list.append(tweet_user)\n",
    "            text_list.append(tweet_text)\n",
    "            createdOn_list.append(tweet_created)\n",
    "        \n",
    "            compound_list.append(com)\n",
    "            positive_list.append(pos)\n",
    "            negative_list.append(neg)\n",
    "            neutral_list.append(neu)"
   ]
  },
  {
   "cell_type": "code",
   "execution_count": 7,
   "metadata": {},
   "outputs": [
    {
     "name": "stderr",
     "output_type": "stream",
     "text": [
      "/Users/pariya/opt/anaconda3/lib/python3.7/site-packages/ipykernel_launcher.py:12: FutureWarning: Passing a negative integer is deprecated in version 1.0 and will not be supported in future version. Instead, use None to not limit the column width.\n",
      "  if sys.path[0] == '':\n"
     ]
    }
   ],
   "source": [
    "result_df = pd.DataFrame({\n",
    "    'User': user_list,\n",
    "    'Search Term': search_term_list,\n",
    "    'Tweet Text': text_list,\n",
    "    'Created on': createdOn_list,\n",
    "    'Compound': compound_list,\n",
    "    'Positive': positive_list,\n",
    "    'Negative': negative_list,\n",
    "    'Neutral': neutral_list,\n",
    "})\n",
    "\n",
    "pd.set_option('display.max_colwidth', -1)"
   ]
  },
  {
   "cell_type": "code",
   "execution_count": 8,
   "metadata": {},
   "outputs": [],
   "source": [
    "#result_sorted = result_df.sort_values(by=['Created on'])"
   ]
  },
  {
   "cell_type": "code",
   "execution_count": 9,
   "metadata": {},
   "outputs": [
    {
     "data": {
      "text/html": [
       "<div>\n",
       "<style scoped>\n",
       "    .dataframe tbody tr th:only-of-type {\n",
       "        vertical-align: middle;\n",
       "    }\n",
       "\n",
       "    .dataframe tbody tr th {\n",
       "        vertical-align: top;\n",
       "    }\n",
       "\n",
       "    .dataframe thead th {\n",
       "        text-align: right;\n",
       "    }\n",
       "</style>\n",
       "<table border=\"1\" class=\"dataframe\">\n",
       "  <thead>\n",
       "    <tr style=\"text-align: right;\">\n",
       "      <th></th>\n",
       "      <th>User</th>\n",
       "      <th>Search Term</th>\n",
       "      <th>Tweet Text</th>\n",
       "      <th>Created on</th>\n",
       "      <th>Compound</th>\n",
       "      <th>Positive</th>\n",
       "      <th>Negative</th>\n",
       "      <th>Neutral</th>\n",
       "      <th>Timestamps</th>\n",
       "    </tr>\n",
       "  </thead>\n",
       "  <tbody>\n",
       "    <tr>\n",
       "      <th>0</th>\n",
       "      <td>bar_zie</td>\n",
       "      <td>@BBC</td>\n",
       "      <td>RT @ST3AMCo: @MargKelpi @msMikexcity @BoomtownThe @BoomtownFair @PeteBriquette @PeteStewartEden @edencommunities @PaulGarvey4 @grahamandre…</td>\n",
       "      <td>2020-05-26 07:29:20</td>\n",
       "      <td>0.0000</td>\n",
       "      <td>0.000</td>\n",
       "      <td>0.000</td>\n",
       "      <td>1.000</td>\n",
       "      <td>1590478160</td>\n",
       "    </tr>\n",
       "    <tr>\n",
       "      <th>1</th>\n",
       "      <td>JimBGuitars</td>\n",
       "      <td>@BBC</td>\n",
       "      <td>RT @enuffsa1d: Five minutes later another @BBCBreakfast DomGate piece, that's me and @BBC for the rest of the day! #MOVEON #ScumMedia #BBCB…</td>\n",
       "      <td>2020-05-26 07:29:07</td>\n",
       "      <td>0.0000</td>\n",
       "      <td>0.000</td>\n",
       "      <td>0.000</td>\n",
       "      <td>1.000</td>\n",
       "      <td>1590478147</td>\n",
       "    </tr>\n",
       "    <tr>\n",
       "      <th>2</th>\n",
       "      <td>UK_Optimist</td>\n",
       "      <td>@BBC</td>\n",
       "      <td>The @BBC seem oblivious to what they’ve created - a following solely from like-minded Leftwaffe Guardianistas. What do they offer the rest of us, sweet FA, but they don’t care so long as they can point to adequate viewing figures - from things they have a monopoly on 😏 https://t.co/ndUupdZWVu</td>\n",
       "      <td>2020-05-26 07:29:04</td>\n",
       "      <td>0.8462</td>\n",
       "      <td>0.178</td>\n",
       "      <td>0.000</td>\n",
       "      <td>0.822</td>\n",
       "      <td>1590478144</td>\n",
       "    </tr>\n",
       "    <tr>\n",
       "      <th>3</th>\n",
       "      <td>camcruise</td>\n",
       "      <td>@BBC</td>\n",
       "      <td>@PietaHouse @mescal_paul @NormalPeopleBBC @rte @BBC Would like to know the situation with 100 staff that where let go An dybe money recently raised by the late late fundraiser  before donating anymore money to pieta in all Honesty.</td>\n",
       "      <td>2020-05-26 07:28:42</td>\n",
       "      <td>0.6908</td>\n",
       "      <td>0.140</td>\n",
       "      <td>0.000</td>\n",
       "      <td>0.860</td>\n",
       "      <td>1590478122</td>\n",
       "    </tr>\n",
       "    <tr>\n",
       "      <th>4</th>\n",
       "      <td>Mambear04</td>\n",
       "      <td>@BBC</td>\n",
       "      <td>@Fanxxxxtastic @unojen_wood @KayBurley #skynews miss that Cummings issued a tissue of lies, totally missed wife Mary’s dialogues of his ‘battle’ of Covid-19 @BBC Radio4 &amp;amp; Spectator column before birthday jaunts to Durham 🙄 no scrutiny of Johnson’s sheer desperation to hold onto ‘Dom’ not missed! #ToryLiars</td>\n",
       "      <td>2020-05-26 07:28:40</td>\n",
       "      <td>-0.8590</td>\n",
       "      <td>0.033</td>\n",
       "      <td>0.216</td>\n",
       "      <td>0.751</td>\n",
       "      <td>1590478120</td>\n",
       "    </tr>\n",
       "  </tbody>\n",
       "</table>\n",
       "</div>"
      ],
      "text/plain": [
       "          User Search Term  \\\n",
       "0  bar_zie      @BBC         \n",
       "1  JimBGuitars  @BBC         \n",
       "2  UK_Optimist  @BBC         \n",
       "3  camcruise    @BBC         \n",
       "4  Mambear04    @BBC         \n",
       "\n",
       "                                                                                                                                                                                                                                                                                                                Tweet Text  \\\n",
       "0  RT @ST3AMCo: @MargKelpi @msMikexcity @BoomtownThe @BoomtownFair @PeteBriquette @PeteStewartEden @edencommunities @PaulGarvey4 @grahamandre…                                                                                                                                                                               \n",
       "1  RT @enuffsa1d: Five minutes later another @BBCBreakfast DomGate piece, that's me and @BBC for the rest of the day! #MOVEON #ScumMedia #BBCB…                                                                                                                                                                              \n",
       "2  The @BBC seem oblivious to what they’ve created - a following solely from like-minded Leftwaffe Guardianistas. What do they offer the rest of us, sweet FA, but they don’t care so long as they can point to adequate viewing figures - from things they have a monopoly on 😏 https://t.co/ndUupdZWVu                     \n",
       "3  @PietaHouse @mescal_paul @NormalPeopleBBC @rte @BBC Would like to know the situation with 100 staff that where let go An dybe money recently raised by the late late fundraiser  before donating anymore money to pieta in all Honesty.                                                                                   \n",
       "4  @Fanxxxxtastic @unojen_wood @KayBurley #skynews miss that Cummings issued a tissue of lies, totally missed wife Mary’s dialogues of his ‘battle’ of Covid-19 @BBC Radio4 &amp; Spectator column before birthday jaunts to Durham 🙄 no scrutiny of Johnson’s sheer desperation to hold onto ‘Dom’ not missed! #ToryLiars   \n",
       "\n",
       "           Created on  Compound  Positive  Negative  Neutral  Timestamps  \n",
       "0 2020-05-26 07:29:20  0.0000    0.000     0.000     1.000    1590478160  \n",
       "1 2020-05-26 07:29:07  0.0000    0.000     0.000     1.000    1590478147  \n",
       "2 2020-05-26 07:29:04  0.8462    0.178     0.000     0.822    1590478144  \n",
       "3 2020-05-26 07:28:42  0.6908    0.140     0.000     0.860    1590478122  \n",
       "4 2020-05-26 07:28:40 -0.8590    0.033     0.216     0.751    1590478120  "
      ]
     },
     "execution_count": 9,
     "metadata": {},
     "output_type": "execute_result"
    }
   ],
   "source": [
    "# Calculate Timestamps from Created_on columns\n",
    "result_df['Timestamps'] = result_df['Created on'].values.astype(np.int) // 10 ** 9\n",
    "result_df.head()"
   ]
  },
  {
   "cell_type": "code",
   "execution_count": 10,
   "metadata": {},
   "outputs": [
    {
     "data": {
      "text/plain": [
       "'/Users/pariya/Desktop/pariya_GW_HW_Python_APIs/Twitter-API-Instructions'"
      ]
     },
     "execution_count": 10,
     "metadata": {},
     "output_type": "execute_result"
    }
   ],
   "source": [
    "# get back up 2 level to be on Desktop first, then navigate to 'pariya_FW_HW' directory which contains twtpy inside\n",
    "os.chdir(os.path.join('..','pariya_GW_HW_Python_APIs', 'Twitter-API-Instructions'))\n",
    "# Now, you can see the new working directory\n",
    "curr_working_directory = os.getcwd()\n",
    "os.getcwd()"
   ]
  },
  {
   "cell_type": "code",
   "execution_count": 17,
   "metadata": {},
   "outputs": [],
   "source": [
    "result_df.to_csv('output/sentiment_analysis.csv', index=False)"
   ]
  },
  {
   "cell_type": "code",
   "execution_count": 12,
   "metadata": {},
   "outputs": [],
   "source": [
    "import numpy as np\n",
    "import matplotlib.pyplot as plt"
   ]
  },
  {
   "cell_type": "code",
   "execution_count": 13,
   "metadata": {},
   "outputs": [],
   "source": [
    "#ts_max = result_df['Timestamps'].max()\n",
    "#ts_min = result_df['Timestamps'].min()\n",
    "#print(ts_max, ts_min)"
   ]
  },
  {
   "cell_type": "code",
   "execution_count": 14,
   "metadata": {},
   "outputs": [],
   "source": [
    "# Filter each News channel to work on ---@BBC, @CBS, @CNN, @Fox, @New York times---\n",
    "bbc = result_df.loc[result_df['Search Term']=='@BBC', :]\n",
    "cbs = result_df.loc[result_df['Search Term']=='@CBS', :]\n",
    "cnn = result_df.loc[result_df['Search Term']=='@CNN', :]\n",
    "fox = result_df.loc[result_df['Search Term']=='@Fox', :]\n",
    "nyt = result_df.loc[result_df['Search Term']=='@New York times', :]"
   ]
  },
  {
   "cell_type": "code",
   "execution_count": 19,
   "metadata": {},
   "outputs": [
    {
     "data": {
      "image/png": "[encoded data removed]",
      "text/plain": [
       "<Figure size 720x360 with 1 Axes>"
      ]
     },
     "metadata": {
      "needs_background": "light"
     },
     "output_type": "display_data"
    }
   ],
   "source": [
    "fig, ax = plt.subplots(figsize=(10, 5))\n",
    "\n",
    "ax.scatter(bbc['Timestamps'], bbc['Compound'], color=\"hotpink\", alpha=0.8)\n",
    "ax.scatter(cbs['Timestamps'], cbs['Compound'], color=\"gold\", alpha=0.8)\n",
    "ax.scatter(cnn['Timestamps'], cnn['Compound'], color=\"seagreen\", alpha=0.8)\n",
    "ax.scatter(fox['Timestamps'], fox['Compound'], color=\"royalblue\", alpha=0.8)\n",
    "ax.scatter(nyt['Timestamps'], nyt['Compound'], color=\"mediumvioletred\", alpha=0.8)\n",
    "\n",
    "ax.set_ylim(-1, 1)\n",
    "#ax.set_xlim(100, 0)\n",
    "ax.set_xlabel('News Channels', fontsize=13)\n",
    "ax.set_ylabel('Scores', fontsize=13)\n",
    "ax.set_title('Sentiment Intensity Score for each News Organizations', fontsize=15)\n",
    "\n",
    "ax.grid(alpha=.2)\n",
    "fig.tight_layout()\n",
    "\n",
    "plt.savefig('Images/sentiment_score.png')\n",
    "\n",
    "plt.show()"
   ]
  },
  {
   "cell_type": "code",
   "execution_count": 20,
   "metadata": {},
   "outputs": [
    {
     "data": {
      "image/png": "[encoded data removed]",
      "text/plain": [
       "<Figure size 576x432 with 1 Axes>"
      ]
     },
     "metadata": {
      "needs_background": "light"
     },
     "output_type": "display_data"
    }
   ],
   "source": [
    "bbc_av = bbc['Compound'].mean()\n",
    "cbs_av = cbs['Compound'].mean()\n",
    "cnn_av = cnn['Compound'].mean()\n",
    "fox_av = fox['Compound'].mean()\n",
    "nyt_av = nyt['Compound'].mean()\n",
    "\n",
    "index = [\"@BBC\", \"@CBS\", \"@CNN\", \"@Fox\", \"@New York times\"]\n",
    "\n",
    "df = pd.DataFrame({'Channels': ['BBC', 'CBS', 'CNN', 'FOX', 'NYT'], \n",
    "                   'Tweet Polarity': [bbc_av, cbs_av, cnn_av, fox_av, nyt_av]})\n",
    "\n",
    "ax = df.plot.bar(x='Channels', y='Tweet Polarity', rot=0, figsize=(8, 6))\n",
    "\n",
    "ax.set_xlabel('News Channels', fontsize=13)\n",
    "ax.set_ylabel('Scores', fontsize=13)\n",
    "ax.set_title('Overall Media Sentiment based on Twitter (May 22nd, 2020)', fontsize=14)\n",
    "ax.grid(alpha=0.2)\n",
    "#fig.tight_layout()\n",
    "\n",
    "ax.set_ylim(-0.025, 0.08)\n",
    "\n",
    "plt.savefig('Images/overall_media_sentiment.png')"
   ]
  },
  {
   "cell_type": "code",
   "execution_count": null,
   "metadata": {},
   "outputs": [],
   "source": []
  },
  {
   "cell_type": "code",
   "execution_count": null,
   "metadata": {},
   "outputs": [],
   "source": []
  },
  {
   "cell_type": "code",
   "execution_count": null,
   "metadata": {},
   "outputs": [],
   "source": []
  }
 ],
 "metadata": {
  "kernelspec": {
   "display_name": "Python 3",
   "language": "python",
   "name": "python3"
  },
  "language_info": {
   "codemirror_mode": {
    "name": "ipython",
    "version": 3
   },
   "file_extension": ".py",
   "mimetype": "text/x-python",
   "name": "python",
   "nbconvert_exporter": "python",
   "pygments_lexer": "ipython3",
   "version": "3.7.6"
  }
 },
 "nbformat": 4,
 "nbformat_minor": 4
}

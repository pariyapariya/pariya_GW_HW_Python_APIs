{
 "cells": [
  {
   "cell_type": "code",
   "execution_count": 3,
   "metadata": {},
   "outputs": [],
   "source": [
    "# Dependencies\n",
    "import requests\n",
    "import json\n",
    "\n",
    "url = \"http://api.worldbank.org/v2/\""
   ]
  },
  {
   "cell_type": "code",
   "execution_count": 5,
   "metadata": {},
   "outputs": [
    {
     "name": "stdout",
     "output_type": "stream",
     "text": [
      "[\n",
      "    {\n",
      "        \"page\": \"1\",\n",
      "        \"pages\": \"1\",\n",
      "        \"per_page\": \"50\",\n",
      "        \"total\": \"4\"\n",
      "    },\n",
      "    [\n",
      "        {\n",
      "            \"id\": \"IBD\",\n",
      "            \"iso2code\": \"XF\",\n",
      "            \"value\": \"IBRD\"\n",
      "        },\n",
      "        {\n",
      "            \"id\": \"IDB\",\n",
      "            \"iso2code\": \"XH\",\n",
      "            \"value\": \"Blend\"\n",
      "        },\n",
      "        {\n",
      "            \"id\": \"IDX\",\n",
      "            \"iso2code\": \"XI\",\n",
      "            \"value\": \"IDA\"\n",
      "        },\n",
      "        {\n",
      "            \"id\": \"LNX\",\n",
      "            \"iso2code\": \"XX\",\n",
      "            \"value\": \"Not classified\"\n",
      "        }\n",
      "    ]\n",
      "]\n"
     ]
    }
   ],
   "source": [
    "# Get the list of lending types the world bank has\n",
    "lending_response = requests.get(f\"{url}lendingTypes?format=json\").json()\n",
    "(print(json.dumps(lending_response, indent=4)))"
   ]
  },
  {
   "cell_type": "code",
   "execution_count": 9,
   "metadata": {},
   "outputs": [
    {
     "data": {
      "text/plain": [
       "['IBD', 'IDB', 'IDX', 'LNX']"
      ]
     },
     "execution_count": 9,
     "metadata": {},
     "output_type": "execute_result"
    }
   ],
   "source": [
    "lending_types = [lending_type[\"id\"] for lending_type in lending_response[1]]\n",
    "lending_types"
   ]
  },
  {
   "cell_type": "code",
   "execution_count": 10,
   "metadata": {},
   "outputs": [
    {
     "data": {
      "text/plain": [
       "{'IBD': 68, 'IDB': 17, 'IDX': 59, 'LNX': 74}"
      ]
     },
     "execution_count": 10,
     "metadata": {},
     "output_type": "execute_result"
    }
   ],
   "source": [
    "# Next, determine how many countries fall into each lending type.\n",
    "# Hint: Look at the first element of the response array.\n",
    "count_by_type = {}\n",
    "for lending_type in lending_types:\n",
    "    query = f\"{url}countries?lendingType={lending_type}&format=json\"\n",
    "    response = requests.get(query).json()\n",
    "    count_by_type[lending_type] = response[0][\"total\"]\n",
    "    \n",
    "country_count_by_type"
   ]
  },
  {
   "cell_type": "code",
   "execution_count": 11,
   "metadata": {},
   "outputs": [
    {
     "name": "stdout",
     "output_type": "stream",
     "text": [
      "The number of countries with IBD is 68.\n",
      "The number of countries with IDB is 17.\n",
      "The number of countries with IDX is 59.\n",
      "The number of countries with LNX is 74.\n"
     ]
    }
   ],
   "source": [
    "# Print the number of countries of each lending type\n",
    "for key, value in count_by_type.items():\n",
    "    print(f\"The number of countries with {key} is {value}.\")"
   ]
  },
  {
   "cell_type": "code",
   "execution_count": null,
   "metadata": {},
   "outputs": [],
   "source": []
  }
 ],
 "metadata": {
  "kernelspec": {
   "display_name": "Python 3",
   "language": "python",
   "name": "python3"
  },
  "language_info": {
   "codemirror_mode": {
    "name": "ipython",
    "version": 3
   },
   "file_extension": ".py",
   "mimetype": "text/x-python",
   "name": "python",
   "nbconvert_exporter": "python",
   "pygments_lexer": "ipython3",
   "version": "3.7.6"
  },
  "varInspector": {
   "cols": {
    "lenName": 16,
    "lenType": 16,
    "lenVar": 40
   },
   "kernels_config": {
    "python": {
     "delete_cmd_postfix": "",
     "delete_cmd_prefix": "del ",
     "library": "var_list.py",
     "varRefreshCmd": "print(var_dic_list())"
    },
    "r": {
     "delete_cmd_postfix": ") ",
     "delete_cmd_prefix": "rm(",
     "library": "var_list.r",
     "varRefreshCmd": "cat(var_dic_list()) "
    }
   },
   "types_to_exclude": [
    "module",
    "function",
    "builtin_function_or_method",
    "instance",
    "_Feature"
   ],
   "window_display": false
  }
 },
 "nbformat": 4,
 "nbformat_minor": 2
}
